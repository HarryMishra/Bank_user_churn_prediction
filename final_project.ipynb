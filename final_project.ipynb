{
 "cells": [
  {
   "cell_type": "markdown",
   "metadata": {
    "id": "uyn86Jngd5OV"
   },
   "source": [
    "# Importing Library"
   ]
  },
  {
   "cell_type": "code",
   "execution_count": 1,
   "metadata": {
    "id": "slnkeLwlE0CP"
   },
   "outputs": [],
   "source": [
    "import pandas as pd\n",
    "import numpy as np\n",
    "import matplotlib.pyplot as plt\n",
    "import seaborn as sns\n",
    "from scipy.stats import ttest_ind\n",
    "import scipy.stats as stats\n",
    "from scipy.stats import chi2_contingency\n",
    "from sklearn.preprocessing import LabelEncoder\n",
    "from sklearn.model_selection import train_test_split\n",
    "from sklearn.ensemble import RandomForestClassifier\n",
    "from sklearn.metrics import confusion_matrix,classification_report,accuracy_score\n",
    "from sklearn.neighbors import KNeighborsClassifier"
   ]
  },
  {
   "cell_type": "code",
   "execution_count": 2,
   "metadata": {
    "id": "HqsBRGLBFf69"
   },
   "outputs": [],
   "source": [
    "df=pd.read_csv('churn_prediction.csv')"
   ]
  },
  {
   "cell_type": "code",
   "execution_count": 3,
   "metadata": {
    "colab": {
     "base_uri": "https://localhost:8080/",
     "height": 224
    },
    "id": "49M_j231Fn5W",
    "outputId": "179c7452-d88f-4a41-c8ca-2420cd7a4a51"
   },
   "outputs": [
    {
     "data": {
      "text/html": [
       "<div>\n",
       "<style scoped>\n",
       "    .dataframe tbody tr th:only-of-type {\n",
       "        vertical-align: middle;\n",
       "    }\n",
       "\n",
       "    .dataframe tbody tr th {\n",
       "        vertical-align: top;\n",
       "    }\n",
       "\n",
       "    .dataframe thead th {\n",
       "        text-align: right;\n",
       "    }\n",
       "</style>\n",
       "<table border=\"1\" class=\"dataframe\">\n",
       "  <thead>\n",
       "    <tr style=\"text-align: right;\">\n",
       "      <th></th>\n",
       "      <th>customer_id</th>\n",
       "      <th>vintage</th>\n",
       "      <th>age</th>\n",
       "      <th>gender</th>\n",
       "      <th>dependents</th>\n",
       "      <th>occupation</th>\n",
       "      <th>city</th>\n",
       "      <th>customer_nw_category</th>\n",
       "      <th>branch_code</th>\n",
       "      <th>days_since_last_transaction</th>\n",
       "      <th>...</th>\n",
       "      <th>previous_month_end_balance</th>\n",
       "      <th>average_monthly_balance_prevQ</th>\n",
       "      <th>average_monthly_balance_prevQ2</th>\n",
       "      <th>current_month_credit</th>\n",
       "      <th>previous_month_credit</th>\n",
       "      <th>current_month_debit</th>\n",
       "      <th>previous_month_debit</th>\n",
       "      <th>current_month_balance</th>\n",
       "      <th>previous_month_balance</th>\n",
       "      <th>churn</th>\n",
       "    </tr>\n",
       "  </thead>\n",
       "  <tbody>\n",
       "    <tr>\n",
       "      <th>0</th>\n",
       "      <td>1</td>\n",
       "      <td>3135</td>\n",
       "      <td>66</td>\n",
       "      <td>Male</td>\n",
       "      <td>0.0</td>\n",
       "      <td>self_employed</td>\n",
       "      <td>187.0</td>\n",
       "      <td>2</td>\n",
       "      <td>755</td>\n",
       "      <td>224.0</td>\n",
       "      <td>...</td>\n",
       "      <td>1458.71</td>\n",
       "      <td>1458.71</td>\n",
       "      <td>1449.07</td>\n",
       "      <td>0.20</td>\n",
       "      <td>0.20</td>\n",
       "      <td>0.20</td>\n",
       "      <td>0.20</td>\n",
       "      <td>1458.71</td>\n",
       "      <td>1458.71</td>\n",
       "      <td>0</td>\n",
       "    </tr>\n",
       "    <tr>\n",
       "      <th>1</th>\n",
       "      <td>2</td>\n",
       "      <td>310</td>\n",
       "      <td>35</td>\n",
       "      <td>Male</td>\n",
       "      <td>0.0</td>\n",
       "      <td>self_employed</td>\n",
       "      <td>NaN</td>\n",
       "      <td>2</td>\n",
       "      <td>3214</td>\n",
       "      <td>60.0</td>\n",
       "      <td>...</td>\n",
       "      <td>8704.66</td>\n",
       "      <td>7799.26</td>\n",
       "      <td>12419.41</td>\n",
       "      <td>0.56</td>\n",
       "      <td>0.56</td>\n",
       "      <td>5486.27</td>\n",
       "      <td>100.56</td>\n",
       "      <td>6496.78</td>\n",
       "      <td>8787.61</td>\n",
       "      <td>0</td>\n",
       "    </tr>\n",
       "    <tr>\n",
       "      <th>2</th>\n",
       "      <td>4</td>\n",
       "      <td>2356</td>\n",
       "      <td>31</td>\n",
       "      <td>Male</td>\n",
       "      <td>0.0</td>\n",
       "      <td>salaried</td>\n",
       "      <td>146.0</td>\n",
       "      <td>2</td>\n",
       "      <td>41</td>\n",
       "      <td>NaN</td>\n",
       "      <td>...</td>\n",
       "      <td>5815.29</td>\n",
       "      <td>4910.17</td>\n",
       "      <td>2815.94</td>\n",
       "      <td>0.61</td>\n",
       "      <td>0.61</td>\n",
       "      <td>6046.73</td>\n",
       "      <td>259.23</td>\n",
       "      <td>5006.28</td>\n",
       "      <td>5070.14</td>\n",
       "      <td>0</td>\n",
       "    </tr>\n",
       "    <tr>\n",
       "      <th>3</th>\n",
       "      <td>5</td>\n",
       "      <td>478</td>\n",
       "      <td>90</td>\n",
       "      <td>NaN</td>\n",
       "      <td>NaN</td>\n",
       "      <td>self_employed</td>\n",
       "      <td>1020.0</td>\n",
       "      <td>2</td>\n",
       "      <td>582</td>\n",
       "      <td>147.0</td>\n",
       "      <td>...</td>\n",
       "      <td>2291.91</td>\n",
       "      <td>2084.54</td>\n",
       "      <td>1006.54</td>\n",
       "      <td>0.47</td>\n",
       "      <td>0.47</td>\n",
       "      <td>0.47</td>\n",
       "      <td>2143.33</td>\n",
       "      <td>2291.91</td>\n",
       "      <td>1669.79</td>\n",
       "      <td>1</td>\n",
       "    </tr>\n",
       "    <tr>\n",
       "      <th>4</th>\n",
       "      <td>6</td>\n",
       "      <td>2531</td>\n",
       "      <td>42</td>\n",
       "      <td>Male</td>\n",
       "      <td>2.0</td>\n",
       "      <td>self_employed</td>\n",
       "      <td>1494.0</td>\n",
       "      <td>3</td>\n",
       "      <td>388</td>\n",
       "      <td>58.0</td>\n",
       "      <td>...</td>\n",
       "      <td>1401.72</td>\n",
       "      <td>1643.31</td>\n",
       "      <td>1871.12</td>\n",
       "      <td>0.33</td>\n",
       "      <td>714.61</td>\n",
       "      <td>588.62</td>\n",
       "      <td>1538.06</td>\n",
       "      <td>1157.15</td>\n",
       "      <td>1677.16</td>\n",
       "      <td>1</td>\n",
       "    </tr>\n",
       "  </tbody>\n",
       "</table>\n",
       "<p>5 rows × 21 columns</p>\n",
       "</div>"
      ],
      "text/plain": [
       "   customer_id  vintage  age gender  dependents     occupation    city  \\\n",
       "0            1     3135   66   Male         0.0  self_employed   187.0   \n",
       "1            2      310   35   Male         0.0  self_employed     NaN   \n",
       "2            4     2356   31   Male         0.0       salaried   146.0   \n",
       "3            5      478   90    NaN         NaN  self_employed  1020.0   \n",
       "4            6     2531   42   Male         2.0  self_employed  1494.0   \n",
       "\n",
       "   customer_nw_category  branch_code  days_since_last_transaction  ...  \\\n",
       "0                     2          755                        224.0  ...   \n",
       "1                     2         3214                         60.0  ...   \n",
       "2                     2           41                          NaN  ...   \n",
       "3                     2          582                        147.0  ...   \n",
       "4                     3          388                         58.0  ...   \n",
       "\n",
       "   previous_month_end_balance  average_monthly_balance_prevQ  \\\n",
       "0                     1458.71                        1458.71   \n",
       "1                     8704.66                        7799.26   \n",
       "2                     5815.29                        4910.17   \n",
       "3                     2291.91                        2084.54   \n",
       "4                     1401.72                        1643.31   \n",
       "\n",
       "   average_monthly_balance_prevQ2  current_month_credit  \\\n",
       "0                         1449.07                  0.20   \n",
       "1                        12419.41                  0.56   \n",
       "2                         2815.94                  0.61   \n",
       "3                         1006.54                  0.47   \n",
       "4                         1871.12                  0.33   \n",
       "\n",
       "   previous_month_credit  current_month_debit  previous_month_debit  \\\n",
       "0                   0.20                 0.20                  0.20   \n",
       "1                   0.56              5486.27                100.56   \n",
       "2                   0.61              6046.73                259.23   \n",
       "3                   0.47                 0.47               2143.33   \n",
       "4                 714.61               588.62               1538.06   \n",
       "\n",
       "   current_month_balance  previous_month_balance  churn  \n",
       "0                1458.71                 1458.71      0  \n",
       "1                6496.78                 8787.61      0  \n",
       "2                5006.28                 5070.14      0  \n",
       "3                2291.91                 1669.79      1  \n",
       "4                1157.15                 1677.16      1  \n",
       "\n",
       "[5 rows x 21 columns]"
      ]
     },
     "execution_count": 3,
     "metadata": {},
     "output_type": "execute_result"
    }
   ],
   "source": [
    "df.head()"
   ]
  },
  {
   "cell_type": "code",
   "execution_count": 4,
   "metadata": {
    "colab": {
     "base_uri": "https://localhost:8080/"
    },
    "id": "-STmce5zFy0v",
    "outputId": "385887b3-d6ca-4873-e8d7-a38840d65656"
   },
   "outputs": [
    {
     "name": "stdout",
     "output_type": "stream",
     "text": [
      "<class 'pandas.core.frame.DataFrame'>\n",
      "RangeIndex: 28382 entries, 0 to 28381\n",
      "Data columns (total 21 columns):\n",
      "customer_id                       28382 non-null int64\n",
      "vintage                           28382 non-null int64\n",
      "age                               28382 non-null int64\n",
      "gender                            27857 non-null object\n",
      "dependents                        25919 non-null float64\n",
      "occupation                        28302 non-null object\n",
      "city                              27579 non-null float64\n",
      "customer_nw_category              28382 non-null int64\n",
      "branch_code                       28382 non-null int64\n",
      "days_since_last_transaction       25159 non-null float64\n",
      "current_balance                   28382 non-null float64\n",
      "previous_month_end_balance        28382 non-null float64\n",
      "average_monthly_balance_prevQ     28382 non-null float64\n",
      "average_monthly_balance_prevQ2    28382 non-null float64\n",
      "current_month_credit              28382 non-null float64\n",
      "previous_month_credit             28382 non-null float64\n",
      "current_month_debit               28382 non-null float64\n",
      "previous_month_debit              28382 non-null float64\n",
      "current_month_balance             28382 non-null float64\n",
      "previous_month_balance            28382 non-null float64\n",
      "churn                             28382 non-null int64\n",
      "dtypes: float64(13), int64(6), object(2)\n",
      "memory usage: 4.5+ MB\n"
     ]
    }
   ],
   "source": [
    "df.info()"
   ]
  },
  {
   "cell_type": "code",
   "execution_count": 5,
   "metadata": {
    "colab": {
     "base_uri": "https://localhost:8080/"
    },
    "id": "FXMjgVHJF8_z",
    "outputId": "c4c86552-36a6-43f1-fa2d-ed137bd352f5"
   },
   "outputs": [
    {
     "data": {
      "text/plain": [
       "(28382, 21)"
      ]
     },
     "execution_count": 5,
     "metadata": {},
     "output_type": "execute_result"
    }
   ],
   "source": [
    "df.shape"
   ]
  },
  {
   "cell_type": "code",
   "execution_count": 6,
   "metadata": {
    "colab": {
     "base_uri": "https://localhost:8080/",
     "height": 638
    },
    "id": "MEYt9r7WHc0K",
    "outputId": "dba93b26-336d-4e35-9873-23b667a04f94"
   },
   "outputs": [
    {
     "data": {
      "text/html": [
       "<div>\n",
       "<style scoped>\n",
       "    .dataframe tbody tr th:only-of-type {\n",
       "        vertical-align: middle;\n",
       "    }\n",
       "\n",
       "    .dataframe tbody tr th {\n",
       "        vertical-align: top;\n",
       "    }\n",
       "\n",
       "    .dataframe thead th {\n",
       "        text-align: right;\n",
       "    }\n",
       "</style>\n",
       "<table border=\"1\" class=\"dataframe\">\n",
       "  <thead>\n",
       "    <tr style=\"text-align: right;\">\n",
       "      <th></th>\n",
       "      <th>count</th>\n",
       "      <th>mean</th>\n",
       "      <th>std</th>\n",
       "      <th>min</th>\n",
       "      <th>25%</th>\n",
       "      <th>50%</th>\n",
       "      <th>75%</th>\n",
       "      <th>max</th>\n",
       "    </tr>\n",
       "  </thead>\n",
       "  <tbody>\n",
       "    <tr>\n",
       "      <th>customer_id</th>\n",
       "      <td>28382.0</td>\n",
       "      <td>15143.508667</td>\n",
       "      <td>8746.454456</td>\n",
       "      <td>1.00</td>\n",
       "      <td>7557.2500</td>\n",
       "      <td>15150.500</td>\n",
       "      <td>22706.7500</td>\n",
       "      <td>30301.00</td>\n",
       "    </tr>\n",
       "    <tr>\n",
       "      <th>vintage</th>\n",
       "      <td>28382.0</td>\n",
       "      <td>2364.336446</td>\n",
       "      <td>1610.124506</td>\n",
       "      <td>180.00</td>\n",
       "      <td>1121.0000</td>\n",
       "      <td>2018.000</td>\n",
       "      <td>3176.0000</td>\n",
       "      <td>12899.00</td>\n",
       "    </tr>\n",
       "    <tr>\n",
       "      <th>age</th>\n",
       "      <td>28382.0</td>\n",
       "      <td>48.208336</td>\n",
       "      <td>17.807163</td>\n",
       "      <td>1.00</td>\n",
       "      <td>36.0000</td>\n",
       "      <td>46.000</td>\n",
       "      <td>60.0000</td>\n",
       "      <td>90.00</td>\n",
       "    </tr>\n",
       "    <tr>\n",
       "      <th>dependents</th>\n",
       "      <td>25919.0</td>\n",
       "      <td>0.347236</td>\n",
       "      <td>0.997661</td>\n",
       "      <td>0.00</td>\n",
       "      <td>0.0000</td>\n",
       "      <td>0.000</td>\n",
       "      <td>0.0000</td>\n",
       "      <td>52.00</td>\n",
       "    </tr>\n",
       "    <tr>\n",
       "      <th>city</th>\n",
       "      <td>27579.0</td>\n",
       "      <td>796.109576</td>\n",
       "      <td>432.872102</td>\n",
       "      <td>0.00</td>\n",
       "      <td>409.0000</td>\n",
       "      <td>834.000</td>\n",
       "      <td>1096.0000</td>\n",
       "      <td>1649.00</td>\n",
       "    </tr>\n",
       "    <tr>\n",
       "      <th>customer_nw_category</th>\n",
       "      <td>28382.0</td>\n",
       "      <td>2.225530</td>\n",
       "      <td>0.660443</td>\n",
       "      <td>1.00</td>\n",
       "      <td>2.0000</td>\n",
       "      <td>2.000</td>\n",
       "      <td>3.0000</td>\n",
       "      <td>3.00</td>\n",
       "    </tr>\n",
       "    <tr>\n",
       "      <th>branch_code</th>\n",
       "      <td>28382.0</td>\n",
       "      <td>925.975019</td>\n",
       "      <td>937.799129</td>\n",
       "      <td>1.00</td>\n",
       "      <td>176.0000</td>\n",
       "      <td>572.000</td>\n",
       "      <td>1440.0000</td>\n",
       "      <td>4782.00</td>\n",
       "    </tr>\n",
       "    <tr>\n",
       "      <th>days_since_last_transaction</th>\n",
       "      <td>25159.0</td>\n",
       "      <td>69.997814</td>\n",
       "      <td>86.341098</td>\n",
       "      <td>0.00</td>\n",
       "      <td>11.0000</td>\n",
       "      <td>30.000</td>\n",
       "      <td>95.0000</td>\n",
       "      <td>365.00</td>\n",
       "    </tr>\n",
       "    <tr>\n",
       "      <th>current_balance</th>\n",
       "      <td>28382.0</td>\n",
       "      <td>7380.551804</td>\n",
       "      <td>42598.711923</td>\n",
       "      <td>-5503.96</td>\n",
       "      <td>1784.4700</td>\n",
       "      <td>3281.255</td>\n",
       "      <td>6635.8200</td>\n",
       "      <td>5905904.03</td>\n",
       "    </tr>\n",
       "    <tr>\n",
       "      <th>previous_month_end_balance</th>\n",
       "      <td>28382.0</td>\n",
       "      <td>7495.770548</td>\n",
       "      <td>42529.345225</td>\n",
       "      <td>-3149.57</td>\n",
       "      <td>1906.0000</td>\n",
       "      <td>3379.915</td>\n",
       "      <td>6656.5350</td>\n",
       "      <td>5740438.63</td>\n",
       "    </tr>\n",
       "    <tr>\n",
       "      <th>average_monthly_balance_prevQ</th>\n",
       "      <td>28382.0</td>\n",
       "      <td>7496.779856</td>\n",
       "      <td>41726.218776</td>\n",
       "      <td>1428.69</td>\n",
       "      <td>2180.9450</td>\n",
       "      <td>3542.865</td>\n",
       "      <td>6666.8875</td>\n",
       "      <td>5700289.57</td>\n",
       "    </tr>\n",
       "    <tr>\n",
       "      <th>average_monthly_balance_prevQ2</th>\n",
       "      <td>28382.0</td>\n",
       "      <td>7124.209162</td>\n",
       "      <td>44575.809640</td>\n",
       "      <td>-16506.10</td>\n",
       "      <td>1832.5075</td>\n",
       "      <td>3359.600</td>\n",
       "      <td>6517.9600</td>\n",
       "      <td>5010170.10</td>\n",
       "    </tr>\n",
       "    <tr>\n",
       "      <th>current_month_credit</th>\n",
       "      <td>28382.0</td>\n",
       "      <td>3433.252240</td>\n",
       "      <td>77071.452408</td>\n",
       "      <td>0.01</td>\n",
       "      <td>0.3100</td>\n",
       "      <td>0.610</td>\n",
       "      <td>707.2725</td>\n",
       "      <td>12269845.39</td>\n",
       "    </tr>\n",
       "    <tr>\n",
       "      <th>previous_month_credit</th>\n",
       "      <td>28382.0</td>\n",
       "      <td>3261.694458</td>\n",
       "      <td>29688.889329</td>\n",
       "      <td>0.01</td>\n",
       "      <td>0.3300</td>\n",
       "      <td>0.630</td>\n",
       "      <td>749.2350</td>\n",
       "      <td>2361808.29</td>\n",
       "    </tr>\n",
       "    <tr>\n",
       "      <th>current_month_debit</th>\n",
       "      <td>28382.0</td>\n",
       "      <td>3658.744549</td>\n",
       "      <td>51985.423665</td>\n",
       "      <td>0.01</td>\n",
       "      <td>0.4100</td>\n",
       "      <td>91.930</td>\n",
       "      <td>1360.4350</td>\n",
       "      <td>7637857.36</td>\n",
       "    </tr>\n",
       "    <tr>\n",
       "      <th>previous_month_debit</th>\n",
       "      <td>28382.0</td>\n",
       "      <td>3339.761353</td>\n",
       "      <td>24301.111683</td>\n",
       "      <td>0.01</td>\n",
       "      <td>0.4100</td>\n",
       "      <td>109.960</td>\n",
       "      <td>1357.5525</td>\n",
       "      <td>1414168.06</td>\n",
       "    </tr>\n",
       "    <tr>\n",
       "      <th>current_month_balance</th>\n",
       "      <td>28382.0</td>\n",
       "      <td>7451.132765</td>\n",
       "      <td>42033.938543</td>\n",
       "      <td>-3374.18</td>\n",
       "      <td>1996.7650</td>\n",
       "      <td>3447.995</td>\n",
       "      <td>6667.9575</td>\n",
       "      <td>5778184.77</td>\n",
       "    </tr>\n",
       "    <tr>\n",
       "      <th>previous_month_balance</th>\n",
       "      <td>28382.0</td>\n",
       "      <td>7495.177129</td>\n",
       "      <td>42431.978814</td>\n",
       "      <td>-5171.92</td>\n",
       "      <td>2074.4075</td>\n",
       "      <td>3465.235</td>\n",
       "      <td>6654.6925</td>\n",
       "      <td>5720144.50</td>\n",
       "    </tr>\n",
       "    <tr>\n",
       "      <th>churn</th>\n",
       "      <td>28382.0</td>\n",
       "      <td>0.185329</td>\n",
       "      <td>0.388571</td>\n",
       "      <td>0.00</td>\n",
       "      <td>0.0000</td>\n",
       "      <td>0.000</td>\n",
       "      <td>0.0000</td>\n",
       "      <td>1.00</td>\n",
       "    </tr>\n",
       "  </tbody>\n",
       "</table>\n",
       "</div>"
      ],
      "text/plain": [
       "                                  count          mean           std       min  \\\n",
       "customer_id                     28382.0  15143.508667   8746.454456      1.00   \n",
       "vintage                         28382.0   2364.336446   1610.124506    180.00   \n",
       "age                             28382.0     48.208336     17.807163      1.00   \n",
       "dependents                      25919.0      0.347236      0.997661      0.00   \n",
       "city                            27579.0    796.109576    432.872102      0.00   \n",
       "customer_nw_category            28382.0      2.225530      0.660443      1.00   \n",
       "branch_code                     28382.0    925.975019    937.799129      1.00   \n",
       "days_since_last_transaction     25159.0     69.997814     86.341098      0.00   \n",
       "current_balance                 28382.0   7380.551804  42598.711923  -5503.96   \n",
       "previous_month_end_balance      28382.0   7495.770548  42529.345225  -3149.57   \n",
       "average_monthly_balance_prevQ   28382.0   7496.779856  41726.218776   1428.69   \n",
       "average_monthly_balance_prevQ2  28382.0   7124.209162  44575.809640 -16506.10   \n",
       "current_month_credit            28382.0   3433.252240  77071.452408      0.01   \n",
       "previous_month_credit           28382.0   3261.694458  29688.889329      0.01   \n",
       "current_month_debit             28382.0   3658.744549  51985.423665      0.01   \n",
       "previous_month_debit            28382.0   3339.761353  24301.111683      0.01   \n",
       "current_month_balance           28382.0   7451.132765  42033.938543  -3374.18   \n",
       "previous_month_balance          28382.0   7495.177129  42431.978814  -5171.92   \n",
       "churn                           28382.0      0.185329      0.388571      0.00   \n",
       "\n",
       "                                      25%        50%         75%          max  \n",
       "customer_id                     7557.2500  15150.500  22706.7500     30301.00  \n",
       "vintage                         1121.0000   2018.000   3176.0000     12899.00  \n",
       "age                               36.0000     46.000     60.0000        90.00  \n",
       "dependents                         0.0000      0.000      0.0000        52.00  \n",
       "city                             409.0000    834.000   1096.0000      1649.00  \n",
       "customer_nw_category               2.0000      2.000      3.0000         3.00  \n",
       "branch_code                      176.0000    572.000   1440.0000      4782.00  \n",
       "days_since_last_transaction       11.0000     30.000     95.0000       365.00  \n",
       "current_balance                 1784.4700   3281.255   6635.8200   5905904.03  \n",
       "previous_month_end_balance      1906.0000   3379.915   6656.5350   5740438.63  \n",
       "average_monthly_balance_prevQ   2180.9450   3542.865   6666.8875   5700289.57  \n",
       "average_monthly_balance_prevQ2  1832.5075   3359.600   6517.9600   5010170.10  \n",
       "current_month_credit               0.3100      0.610    707.2725  12269845.39  \n",
       "previous_month_credit              0.3300      0.630    749.2350   2361808.29  \n",
       "current_month_debit                0.4100     91.930   1360.4350   7637857.36  \n",
       "previous_month_debit               0.4100    109.960   1357.5525   1414168.06  \n",
       "current_month_balance           1996.7650   3447.995   6667.9575   5778184.77  \n",
       "previous_month_balance          2074.4075   3465.235   6654.6925   5720144.50  \n",
       "churn                              0.0000      0.000      0.0000         1.00  "
      ]
     },
     "execution_count": 6,
     "metadata": {},
     "output_type": "execute_result"
    }
   ],
   "source": [
    "df.describe().T"
   ]
  },
  {
   "cell_type": "code",
   "execution_count": 7,
   "metadata": {
    "colab": {
     "base_uri": "https://localhost:8080/"
    },
    "id": "niyiam6pQF1N",
    "outputId": "db212a9b-c573-4282-9406-d0f79d913f1e"
   },
   "outputs": [
    {
     "data": {
      "text/plain": [
       "customer_id                         int64\n",
       "vintage                             int64\n",
       "age                                 int64\n",
       "gender                             object\n",
       "dependents                        float64\n",
       "occupation                         object\n",
       "city                              float64\n",
       "customer_nw_category                int64\n",
       "branch_code                         int64\n",
       "days_since_last_transaction       float64\n",
       "current_balance                   float64\n",
       "previous_month_end_balance        float64\n",
       "average_monthly_balance_prevQ     float64\n",
       "average_monthly_balance_prevQ2    float64\n",
       "current_month_credit              float64\n",
       "previous_month_credit             float64\n",
       "current_month_debit               float64\n",
       "previous_month_debit              float64\n",
       "current_month_balance             float64\n",
       "previous_month_balance            float64\n",
       "churn                               int64\n",
       "dtype: object"
      ]
     },
     "execution_count": 7,
     "metadata": {},
     "output_type": "execute_result"
    }
   ],
   "source": [
    "df.dtypes"
   ]
  },
  {
   "cell_type": "markdown",
   "metadata": {
    "id": "1AVM_3_1eaRW"
   },
   "source": [
    "# Exploratory Data Analysis"
   ]
  },
  {
   "cell_type": "markdown",
   "metadata": {
    "id": "wHW8avLFHyrw"
   },
   "source": [
    "## Univariate Analysys"
   ]
  },
  {
   "cell_type": "code",
   "execution_count": 8,
   "metadata": {
    "colab": {
     "base_uri": "https://localhost:8080/",
     "height": 350
    },
    "id": "NQSv8XPUHgTg",
    "outputId": "806da4b9-ab61-4ce3-dbe4-1215725340a1"
   },
   "outputs": [
    {
     "data": {
      "text/plain": [
       "(array([9.997e+03, 8.818e+03, 4.218e+03, 3.433e+03, 1.517e+03, 3.920e+02,\n",
       "        3.000e+00, 1.000e+00, 2.000e+00, 1.000e+00]),\n",
       " array([  180. ,  1451.9,  2723.8,  3995.7,  5267.6,  6539.5,  7811.4,\n",
       "         9083.3, 10355.2, 11627.1, 12899. ]),\n",
       " <a list of 10 Patch objects>)"
      ]
     },
     "execution_count": 8,
     "metadata": {},
     "output_type": "execute_result"
    },
    {
     "data": {
      "image/png": "[encoded data removed]",
      "text/plain": [
       "<Figure size 432x288 with 1 Axes>"
      ]
     },
     "metadata": {
      "needs_background": "light"
     },
     "output_type": "display_data"
    }
   ],
   "source": [
    "plt.hist(df['vintage'], color='red')"
   ]
  },
  {
   "cell_type": "markdown",
   "metadata": {
    "id": "oitcIvoeJafp"
   },
   "source": [
    "The maximum coustomer vintage withe bank is between 1000 to 5000 days."
   ]
  },
  {
   "cell_type": "code",
   "execution_count": 9,
   "metadata": {
    "colab": {
     "base_uri": "https://localhost:8080/",
     "height": 333
    },
    "id": "-f6hXIXEIbtZ",
    "outputId": "fb8a8ba7-dbfe-4bf6-ef44-ae186bbc30ee"
   },
   "outputs": [
    {
     "data": {
      "text/plain": [
       "(array([ 343.,  531., 1902., 4989., 6135., 4886., 3849., 2984., 1392.,\n",
       "        1371.]),\n",
       " array([ 1. ,  9.9, 18.8, 27.7, 36.6, 45.5, 54.4, 63.3, 72.2, 81.1, 90. ]),\n",
       " <a list of 10 Patch objects>)"
      ]
     },
     "execution_count": 9,
     "metadata": {},
     "output_type": "execute_result"
    },
    {
     "data": {
      "image/png": "[encoded data removed]",
      "text/plain": [
       "<Figure size 432x288 with 1 Axes>"
      ]
     },
     "metadata": {
      "needs_background": "light"
     },
     "output_type": "display_data"
    }
   ],
   "source": [
    "plt.hist(df['age'], color='green')"
   ]
  },
  {
   "cell_type": "markdown",
   "metadata": {
    "id": "uBm8_xaWJ1Hd"
   },
   "source": [
    "***Here clearly seen some of the customer age is 0 to 10 which is not valid. and also seen coustomer age is lies between 20 to 70 year***"
   ]
  },
  {
   "cell_type": "code",
   "execution_count": 10,
   "metadata": {
    "colab": {
     "base_uri": "https://localhost:8080/"
    },
    "id": "GZqgCc7kTSKo",
    "outputId": "ebad385a-8be3-44b5-be40-6e5058c17363"
   },
   "outputs": [
    {
     "data": {
      "text/plain": [
       "0.0     21435\n",
       "2.0      2150\n",
       "1.0      1395\n",
       "3.0       701\n",
       "4.0       179\n",
       "5.0        41\n",
       "6.0         8\n",
       "7.0         3\n",
       "36.0        1\n",
       "52.0        1\n",
       "25.0        1\n",
       "9.0         1\n",
       "50.0        1\n",
       "32.0        1\n",
       "8.0         1\n",
       "Name: dependents, dtype: int64"
      ]
     },
     "execution_count": 10,
     "metadata": {},
     "output_type": "execute_result"
    }
   ],
   "source": [
    "df['dependents'].value_counts()"
   ]
  },
  {
   "cell_type": "code",
   "execution_count": 11,
   "metadata": {
    "colab": {
     "base_uri": "https://localhost:8080/"
    },
    "id": "zH-s_To8Tq2c",
    "outputId": "f6e5f5c3-d301-4938-cbf2-f75333eac0c1"
   },
   "outputs": [
    {
     "data": {
      "text/plain": [
       "0.0     0.755232\n",
       "2.0     0.075752\n",
       "1.0     0.049151\n",
       "3.0     0.024699\n",
       "4.0     0.006307\n",
       "5.0     0.001445\n",
       "6.0     0.000282\n",
       "7.0     0.000106\n",
       "36.0    0.000035\n",
       "52.0    0.000035\n",
       "25.0    0.000035\n",
       "9.0     0.000035\n",
       "50.0    0.000035\n",
       "32.0    0.000035\n",
       "8.0     0.000035\n",
       "Name: dependents, dtype: float64"
      ]
     },
     "execution_count": 11,
     "metadata": {},
     "output_type": "execute_result"
    }
   ],
   "source": [
    "df['dependents'].value_counts()/len(df['dependents'])"
   ]
  },
  {
   "cell_type": "code",
   "execution_count": 12,
   "metadata": {
    "colab": {
     "base_uri": "https://localhost:8080/",
     "height": 295
    },
    "id": "51FtR6_VT97u",
    "outputId": "be3ff566-945e-4124-df80-f14d7f937edd"
   },
   "outputs": [
    {
     "data": {
      "text/plain": [
       "<matplotlib.axes._subplots.AxesSubplot at 0x250716ecb70>"
      ]
     },
     "execution_count": 12,
     "metadata": {},
     "output_type": "execute_result"
    },
    {
     "data": {
      "image/png": "[encoded data removed]",
      "text/plain": [
       "<Figure size 432x288 with 1 Axes>"
      ]
     },
     "metadata": {
      "needs_background": "light"
     },
     "output_type": "display_data"
    }
   ],
   "source": [
    "df['dependents'].value_counts().plot.bar()"
   ]
  },
  {
   "cell_type": "markdown",
   "metadata": {
    "id": "ZjTEpzgYLjmq"
   },
   "source": [
    "Here clearly seen the number of dependents of maximum coustomer is 0, and very few coustomer have more than 3 dependents. more cleary image we draw a percentage bar graph"
   ]
  },
  {
   "cell_type": "code",
   "execution_count": 13,
   "metadata": {
    "colab": {
     "base_uri": "https://localhost:8080/",
     "height": 295
    },
    "id": "5Mg9-HN5UIsK",
    "outputId": "5d8a9c8d-9fe4-43ac-d2db-dc7fb6922f76"
   },
   "outputs": [
    {
     "data": {
      "text/plain": [
       "<matplotlib.axes._subplots.AxesSubplot at 0x25071773f28>"
      ]
     },
     "execution_count": 13,
     "metadata": {},
     "output_type": "execute_result"
    },
    {
     "data": {
      "image/png": "[encoded data removed]",
      "text/plain": [
       "<Figure size 432x288 with 1 Axes>"
      ]
     },
     "metadata": {
      "needs_background": "light"
     },
     "output_type": "display_data"
    }
   ],
   "source": [
    "(df['dependents'].value_counts()/len(df['dependents'])).plot.bar()"
   ]
  },
  {
   "cell_type": "markdown",
   "metadata": {
    "id": "ExwJVOTYL_-9"
   },
   "source": [
    "here we cleary say that 75 percent of coustomer have 0 dependents, 9 percent have 2 dependents , 6 percent have 1 dependents and less tahn 5 percent have 3 dependents"
   ]
  },
  {
   "cell_type": "code",
   "execution_count": 14,
   "metadata": {
    "colab": {
     "base_uri": "https://localhost:8080/"
    },
    "id": "AmCCsfTBLv1i",
    "outputId": "1287e2c1-39d9-451c-b1f0-3778be8c8598"
   },
   "outputs": [
    {
     "data": {
      "text/plain": [
       "Male      16548\n",
       "Female    11309\n",
       "Name: gender, dtype: int64"
      ]
     },
     "execution_count": 14,
     "metadata": {},
     "output_type": "execute_result"
    }
   ],
   "source": [
    "df['gender'].value_counts()"
   ]
  },
  {
   "cell_type": "code",
   "execution_count": 15,
   "metadata": {
    "colab": {
     "base_uri": "https://localhost:8080/",
     "height": 308
    },
    "id": "y4zywXLdMPY2",
    "outputId": "a3b1ce78-8f66-4fa0-ab73-3aa51ce1b283"
   },
   "outputs": [
    {
     "data": {
      "text/plain": [
       "<matplotlib.axes._subplots.AxesSubplot at 0x2507185b908>"
      ]
     },
     "execution_count": 15,
     "metadata": {},
     "output_type": "execute_result"
    },
    {
     "data": {
      "image/png": "[encoded data removed]",
      "text/plain": [
       "<Figure size 432x288 with 1 Axes>"
      ]
     },
     "metadata": {
      "needs_background": "light"
     },
     "output_type": "display_data"
    }
   ],
   "source": [
    "df['gender'].value_counts().plot.bar()"
   ]
  },
  {
   "cell_type": "code",
   "execution_count": 16,
   "metadata": {
    "colab": {
     "base_uri": "https://localhost:8080/",
     "height": 308
    },
    "id": "SQ4P34ClOMPF",
    "outputId": "7292716b-c7ef-418a-bbd9-af9dc7f9c5bc"
   },
   "outputs": [
    {
     "data": {
      "text/plain": [
       "<matplotlib.axes._subplots.AxesSubplot at 0x250718c2eb8>"
      ]
     },
     "execution_count": 16,
     "metadata": {},
     "output_type": "execute_result"
    },
    {
     "data": {
      "image/png": "[encoded data removed]",
      "text/plain": [
       "<Figure size 432x288 with 1 Axes>"
      ]
     },
     "metadata": {
      "needs_background": "light"
     },
     "output_type": "display_data"
    }
   ],
   "source": [
    "(df['gender'].value_counts()/len(df['gender'])*100).plot.bar()"
   ]
  },
  {
   "cell_type": "markdown",
   "metadata": {
    "id": "3maXJMo1MnQG"
   },
   "source": [
    "Here clearly seen that 60 percent coustomer is male and 40 percent have female"
   ]
  },
  {
   "cell_type": "code",
   "execution_count": 17,
   "metadata": {
    "colab": {
     "base_uri": "https://localhost:8080/"
    },
    "id": "1vDlOD97VnzF",
    "outputId": "97bf3f98-c9ee-40a4-a41a-e92d5ab4271d"
   },
   "outputs": [
    {
     "data": {
      "text/plain": [
       "self_employed    17476\n",
       "salaried          6704\n",
       "student           2058\n",
       "retired           2024\n",
       "company             40\n",
       "Name: occupation, dtype: int64"
      ]
     },
     "execution_count": 17,
     "metadata": {},
     "output_type": "execute_result"
    }
   ],
   "source": [
    "df['occupation'].value_counts()"
   ]
  },
  {
   "cell_type": "code",
   "execution_count": 18,
   "metadata": {
    "colab": {
     "base_uri": "https://localhost:8080/"
    },
    "id": "W-Ypmy5aNN9P",
    "outputId": "fde2c351-882f-4956-daef-87c80ab956a7"
   },
   "outputs": [
    {
     "data": {
      "text/plain": [
       "self_employed    61.574237\n",
       "salaried         23.620605\n",
       "student           7.251075\n",
       "retired           7.131280\n",
       "company           0.140934\n",
       "Name: occupation, dtype: float64"
      ]
     },
     "execution_count": 18,
     "metadata": {},
     "output_type": "execute_result"
    }
   ],
   "source": [
    "df['occupation'].value_counts()/len(df['occupation'])*100"
   ]
  },
  {
   "cell_type": "code",
   "execution_count": 19,
   "metadata": {
    "colab": {
     "base_uri": "https://localhost:8080/",
     "height": 344
    },
    "id": "RrF4RdBvWNaO",
    "outputId": "76d62f0e-4f36-4d64-c380-dc1c5433f82b"
   },
   "outputs": [
    {
     "data": {
      "text/plain": [
       "<matplotlib.axes._subplots.AxesSubplot at 0x2507191dc18>"
      ]
     },
     "execution_count": 19,
     "metadata": {},
     "output_type": "execute_result"
    },
    {
     "data": {
      "image/png": "[encoded data removed]",
      "text/plain": [
       "<Figure size 432x288 with 1 Axes>"
      ]
     },
     "metadata": {
      "needs_background": "light"
     },
     "output_type": "display_data"
    }
   ],
   "source": [
    "(df['occupation'].value_counts()/len(df['occupation'])*100).plot.bar()"
   ]
  },
  {
   "cell_type": "markdown",
   "metadata": {
    "id": "PWwB-rv5M5f6"
   },
   "source": [
    "60 percent of coustomer have self employed, very few percent of coustomer have company, and  23 percent is salaried and 7 percent is student and retaired"
   ]
  },
  {
   "cell_type": "code",
   "execution_count": 20,
   "metadata": {
    "colab": {
     "base_uri": "https://localhost:8080/"
    },
    "id": "sPlFMh_jWXil",
    "outputId": "c9fe9633-05ee-4e97-c8ab-a3994305fc46"
   },
   "outputs": [
    {
     "data": {
      "text/plain": [
       "2    14559\n",
       "3    10112\n",
       "1     3711\n",
       "Name: customer_nw_category, dtype: int64"
      ]
     },
     "execution_count": 20,
     "metadata": {},
     "output_type": "execute_result"
    }
   ],
   "source": [
    "df['customer_nw_category'].value_counts()"
   ]
  },
  {
   "cell_type": "code",
   "execution_count": 21,
   "metadata": {
    "colab": {
     "base_uri": "https://localhost:8080/",
     "height": 279
    },
    "id": "kUt-qc7OXcE0",
    "outputId": "c751ac95-27f9-4c30-9718-cea0fb498d5b"
   },
   "outputs": [
    {
     "data": {
      "text/plain": [
       "<matplotlib.axes._subplots.AxesSubplot at 0x25071992160>"
      ]
     },
     "execution_count": 21,
     "metadata": {},
     "output_type": "execute_result"
    },
    {
     "data": {
      "image/png": "[encoded data removed]",
      "text/plain": [
       "<Figure size 432x288 with 1 Axes>"
      ]
     },
     "metadata": {
      "needs_background": "light"
     },
     "output_type": "display_data"
    }
   ],
   "source": [
    "df['customer_nw_category'].value_counts().plot.bar()"
   ]
  },
  {
   "cell_type": "markdown",
   "metadata": {
    "id": "dRJmIR06Nq2g"
   },
   "source": [
    "It is not very meaningfull for better insight draw a percentage bar graph"
   ]
  },
  {
   "cell_type": "code",
   "execution_count": 22,
   "metadata": {
    "colab": {
     "base_uri": "https://localhost:8080/"
    },
    "id": "RmFC-TWIObKC",
    "outputId": "6ec484db-5078-400e-90c9-4070daaa0ec1"
   },
   "outputs": [
    {
     "data": {
      "text/plain": [
       "2    51.296596\n",
       "3    35.628215\n",
       "1    13.075188\n",
       "Name: customer_nw_category, dtype: float64"
      ]
     },
     "execution_count": 22,
     "metadata": {},
     "output_type": "execute_result"
    }
   ],
   "source": [
    "df['customer_nw_category'].value_counts()/len(df['customer_nw_category'])*100"
   ]
  },
  {
   "cell_type": "code",
   "execution_count": 23,
   "metadata": {
    "colab": {
     "base_uri": "https://localhost:8080/",
     "height": 279
    },
    "id": "Gx8pD0PzXplz",
    "outputId": "948d36a1-5b60-4bc5-cf37-bfcc4921aa32"
   },
   "outputs": [
    {
     "data": {
      "text/plain": [
       "<matplotlib.axes._subplots.AxesSubplot at 0x250719fa278>"
      ]
     },
     "execution_count": 23,
     "metadata": {},
     "output_type": "execute_result"
    },
    {
     "data": {
      "image/png": "[encoded data removed]",
      "text/plain": [
       "<Figure size 432x288 with 1 Axes>"
      ]
     },
     "metadata": {
      "needs_background": "light"
     },
     "output_type": "display_data"
    }
   ],
   "source": [
    "(df['customer_nw_category'].value_counts()/len(df['customer_nw_category'])*100).plot.bar()"
   ]
  },
  {
   "cell_type": "markdown",
   "metadata": {
    "id": "zACOb8ZZOFTR"
   },
   "source": [
    "here, 51 percent of coustomer have medium net worth, 35 percent have low net worth and 13 percent having high net worth"
   ]
  },
  {
   "cell_type": "code",
   "execution_count": 24,
   "metadata": {
    "colab": {
     "base_uri": "https://localhost:8080/"
    },
    "id": "afepVDXeYAyK",
    "outputId": "07f1d5c4-c69e-4977-b0a4-7d452389ec08"
   },
   "outputs": [
    {
     "data": {
      "text/plain": [
       "0    23122\n",
       "1     5260\n",
       "Name: churn, dtype: int64"
      ]
     },
     "execution_count": 24,
     "metadata": {},
     "output_type": "execute_result"
    }
   ],
   "source": [
    "df['churn'].value_counts()"
   ]
  },
  {
   "cell_type": "code",
   "execution_count": 25,
   "metadata": {
    "colab": {
     "base_uri": "https://localhost:8080/",
     "height": 279
    },
    "id": "yHIn-RwwYmaO",
    "outputId": "a7bc264f-24fa-41a8-d45f-b5db1f11c96e"
   },
   "outputs": [
    {
     "data": {
      "text/plain": [
       "<matplotlib.axes._subplots.AxesSubplot at 0x25071a41048>"
      ]
     },
     "execution_count": 25,
     "metadata": {},
     "output_type": "execute_result"
    },
    {
     "data": {
      "image/png": "[encoded data removed]",
      "text/plain": [
       "<Figure size 432x288 with 1 Axes>"
      ]
     },
     "metadata": {
      "needs_background": "light"
     },
     "output_type": "display_data"
    }
   ],
   "source": [
    "(df['churn'].value_counts()/len(df['churn'])*100).plot.bar()"
   ]
  },
  {
   "cell_type": "markdown",
   "metadata": {
    "id": "IXGd7W6DOySl"
   },
   "source": [
    "The predictive having 80 percent  0 values and only 15 percent  1 values. so the data is imbalnced we want to handle it "
   ]
  },
  {
   "cell_type": "markdown",
   "metadata": {
    "id": "Og_uoJSP9G7b"
   },
   "source": [
    "## Bi-Variate Analysis"
   ]
  },
  {
   "cell_type": "code",
   "execution_count": 26,
   "metadata": {
    "colab": {
     "base_uri": "https://localhost:8080/"
    },
    "id": "9ZqqPxIPYu79",
    "outputId": "a0c53d88-743c-45cf-a546-baeba9278f01"
   },
   "outputs": [
    {
     "data": {
      "text/plain": [
       "Index(['customer_id', 'vintage', 'age', 'gender', 'dependents', 'occupation',\n",
       "       'city', 'customer_nw_category', 'branch_code',\n",
       "       'days_since_last_transaction', 'current_balance',\n",
       "       'previous_month_end_balance', 'average_monthly_balance_prevQ',\n",
       "       'average_monthly_balance_prevQ2', 'current_month_credit',\n",
       "       'previous_month_credit', 'current_month_debit', 'previous_month_debit',\n",
       "       'current_month_balance', 'previous_month_balance', 'churn'],\n",
       "      dtype='object')"
      ]
     },
     "execution_count": 26,
     "metadata": {},
     "output_type": "execute_result"
    }
   ],
   "source": [
    "df.columns"
   ]
  },
  {
   "cell_type": "code",
   "execution_count": 27,
   "metadata": {
    "colab": {
     "base_uri": "https://localhost:8080/"
    },
    "id": "IxPopiEQ9kG_",
    "outputId": "adbe850e-f5bf-4455-a2cf-7a294f5073ad"
   },
   "outputs": [
    {
     "data": {
      "text/plain": [
       "customer_id                         int64\n",
       "vintage                             int64\n",
       "age                                 int64\n",
       "gender                             object\n",
       "dependents                        float64\n",
       "occupation                         object\n",
       "city                              float64\n",
       "customer_nw_category                int64\n",
       "branch_code                         int64\n",
       "days_since_last_transaction       float64\n",
       "current_balance                   float64\n",
       "previous_month_end_balance        float64\n",
       "average_monthly_balance_prevQ     float64\n",
       "average_monthly_balance_prevQ2    float64\n",
       "current_month_credit              float64\n",
       "previous_month_credit             float64\n",
       "current_month_debit               float64\n",
       "previous_month_debit              float64\n",
       "current_month_balance             float64\n",
       "previous_month_balance            float64\n",
       "churn                               int64\n",
       "dtype: object"
      ]
     },
     "execution_count": 27,
     "metadata": {},
     "output_type": "execute_result"
    }
   ],
   "source": [
    "df.dtypes"
   ]
  },
  {
   "cell_type": "code",
   "execution_count": 28,
   "metadata": {
    "colab": {
     "base_uri": "https://localhost:8080/",
     "height": 293
    },
    "id": "3jBWfO5F9oQq",
    "outputId": "0267db18-65d9-4471-ee2e-248e35d41ca7"
   },
   "outputs": [
    {
     "data": {
      "text/plain": [
       "<matplotlib.collections.PathCollection at 0x25073f2c898>"
      ]
     },
     "execution_count": 28,
     "metadata": {},
     "output_type": "execute_result"
    },
    {
     "data": {
      "image/png": "[encoded data removed]",
      "text/plain": [
       "<Figure size 432x288 with 1 Axes>"
      ]
     },
     "metadata": {
      "needs_background": "light"
     },
     "output_type": "display_data"
    }
   ],
   "source": [
    "plt.scatter(df['days_since_last_transaction'], df['current_balance'])"
   ]
  },
  {
   "cell_type": "code",
   "execution_count": 29,
   "metadata": {
    "id": "In6UnEpo954V"
   },
   "outputs": [],
   "source": [
    "hm=df.corr()"
   ]
  },
  {
   "cell_type": "code",
   "execution_count": 30,
   "metadata": {
    "colab": {
     "base_uri": "https://localhost:8080/",
     "height": 884
    },
    "id": "-UPUAnsc-Ahx",
    "outputId": "c55d10b9-ca66-446c-96ae-aef53058b719"
   },
   "outputs": [
    {
     "data": {
      "text/plain": [
       "<matplotlib.axes._subplots.AxesSubplot at 0x25073f75400>"
      ]
     },
     "execution_count": 30,
     "metadata": {},
     "output_type": "execute_result"
    },
    {
     "data": {
      "image/png": "[encoded data removed]",
      "text/plain": [
       "<Figure size 1296x864 with 2 Axes>"
      ]
     },
     "metadata": {
      "needs_background": "light"
     },
     "output_type": "display_data"
    }
   ],
   "source": [
    "plt.figure(figsize=(18,12))\n",
    "sns.heatmap(hm, \n",
    "            xticklabels = hm.columns.values,\n",
    "            yticklabels = hm.columns.values,\n",
    "            annot = True)"
   ]
  },
  {
   "cell_type": "markdown",
   "metadata": {
    "id": "w60rL8nTQoQb"
   },
   "source": [
    "Here lots of varible have postivily or negativily co related , describe some.\n",
    "previous_month_balnce postivily corelate with current balnce , previus month end balance postivily corelate with previous month balnce. so in clening we drop one of them which is positivily corelate with each other.\n",
    "becouse both are same in imapct of predictive variable."
   ]
  },
  {
   "cell_type": "code",
   "execution_count": 31,
   "metadata": {
    "id": "4KNqOi6dJNYS"
   },
   "outputs": [],
   "source": [
    "fh=df.groupby('gender')['age']"
   ]
  },
  {
   "cell_type": "code",
   "execution_count": 32,
   "metadata": {
    "colab": {
     "base_uri": "https://localhost:8080/"
    },
    "id": "LK5TyvDCKHRT",
    "outputId": "6b1d4a5e-55dd-45d3-e6a0-3a0fa7db1e58"
   },
   "outputs": [
    {
     "data": {
      "text/plain": [
       "gender\n",
       "Female    46.249536\n",
       "Male      48.239425\n",
       "Name: age, dtype: float64"
      ]
     },
     "execution_count": 32,
     "metadata": {},
     "output_type": "execute_result"
    }
   ],
   "source": [
    "fh.mean()"
   ]
  },
  {
   "cell_type": "code",
   "execution_count": 33,
   "metadata": {
    "colab": {
     "base_uri": "https://localhost:8080/",
     "height": 324
    },
    "id": "m-Ebi2AqRNLz",
    "outputId": "078e4213-13b4-469f-c9e7-ba21cdefd172"
   },
   "outputs": [
    {
     "data": {
      "text/plain": [
       "<matplotlib.axes._subplots.AxesSubplot at 0x250740665f8>"
      ]
     },
     "execution_count": 33,
     "metadata": {},
     "output_type": "execute_result"
    },
    {
     "data": {
      "image/png": "[encoded data removed]",
      "text/plain": [
       "<Figure size 432x288 with 1 Axes>"
      ]
     },
     "metadata": {
      "needs_background": "light"
     },
     "output_type": "display_data"
    }
   ],
   "source": [
    "fh.mean().plot.bar(color='purple')"
   ]
  },
  {
   "cell_type": "markdown",
   "metadata": {
    "id": "z-q2jSt8SZgf"
   },
   "source": [
    "mean age of male is 48 and for female it is 46"
   ]
  },
  {
   "cell_type": "code",
   "execution_count": 34,
   "metadata": {
    "id": "9ZCP-FOVRhfz"
   },
   "outputs": [],
   "source": [
    "gg=df.groupby('occupation')['age']"
   ]
  },
  {
   "cell_type": "code",
   "execution_count": 35,
   "metadata": {
    "colab": {
     "base_uri": "https://localhost:8080/"
    },
    "id": "Pgb2n_ikS_YQ",
    "outputId": "bc45598d-d2a5-4236-ea2f-32306262a38b"
   },
   "outputs": [
    {
     "data": {
      "text/plain": [
       "occupation\n",
       "company          69.825000\n",
       "retired          72.173419\n",
       "salaried         44.077416\n",
       "self_employed    50.303902\n",
       "student          19.408649\n",
       "Name: age, dtype: float64"
      ]
     },
     "execution_count": 35,
     "metadata": {},
     "output_type": "execute_result"
    }
   ],
   "source": [
    "gg.mean()"
   ]
  },
  {
   "cell_type": "code",
   "execution_count": 36,
   "metadata": {
    "colab": {
     "base_uri": "https://localhost:8080/",
     "height": 358
    },
    "id": "1Yk1NN6jTH1X",
    "outputId": "254b1020-3bde-4ada-f8ae-345486c5570d"
   },
   "outputs": [
    {
     "data": {
      "text/plain": [
       "<matplotlib.axes._subplots.AxesSubplot at 0x250757ab390>"
      ]
     },
     "execution_count": 36,
     "metadata": {},
     "output_type": "execute_result"
    },
    {
     "data": {
      "image/png": "[encoded data removed]",
      "text/plain": [
       "<Figure size 432x288 with 1 Axes>"
      ]
     },
     "metadata": {
      "needs_background": "light"
     },
     "output_type": "display_data"
    }
   ],
   "source": [
    "gg.mean().plot.bar(color='green')"
   ]
  },
  {
   "cell_type": "markdown",
   "metadata": {
    "id": "J6zGFi3uTcxL"
   },
   "source": [
    "student mean is is 19 , retaired coutomer mean age is 72 self employed mean age 50"
   ]
  },
  {
   "cell_type": "code",
   "execution_count": 37,
   "metadata": {
    "id": "wnKC5Z-GIZ1e"
   },
   "outputs": [],
   "source": [
    "male=df[df['gender']=='Male']"
   ]
  },
  {
   "cell_type": "code",
   "execution_count": 38,
   "metadata": {
    "id": "rljfB-SfMYrM"
   },
   "outputs": [],
   "source": [
    "female=df[df['gender']=='Female']"
   ]
  },
  {
   "cell_type": "code",
   "execution_count": 39,
   "metadata": {
    "colab": {
     "base_uri": "https://localhost:8080/"
    },
    "id": "l5ygwZxwMmcd",
    "outputId": "416809d6-85b2-4b89-fb42-c320f115376d"
   },
   "outputs": [
    {
     "data": {
      "text/plain": [
       "Ttest_indResult(statistic=9.596318583925742, pvalue=8.953496870492096e-22)"
      ]
     },
     "execution_count": 39,
     "metadata": {},
     "output_type": "execute_result"
    }
   ],
   "source": [
    "ttest_ind(male['age'], female['age'])"
   ]
  },
  {
   "cell_type": "code",
   "execution_count": 40,
   "metadata": {
    "colab": {
     "base_uri": "https://localhost:8080/"
    },
    "id": "CK6hbhtLMz7E",
    "outputId": "3693b28a-a518-482c-fb30-435deab6565e"
   },
   "outputs": [
    {
     "data": {
      "text/plain": [
       "F_onewayResult(statistic=3702.824995965189, pvalue=0.0)"
      ]
     },
     "execution_count": 40,
     "metadata": {},
     "output_type": "execute_result"
    }
   ],
   "source": [
    "\n",
    "\n",
    "stats.f_oneway(df['age'][df['occupation'] == 'company'],\n",
    "               df['age'][df['occupation'] == 'retired'],\n",
    "               df['age'][df['occupation'] == 'salaried'],\n",
    "                df['age'][df['occupation'] == 'self_employed'],\n",
    "                df['age'][df['occupation'] == 'student']\n",
    "               \n",
    "               \n",
    "               )\n"
   ]
  },
  {
   "cell_type": "code",
   "execution_count": 41,
   "metadata": {
    "colab": {
     "base_uri": "https://localhost:8080/",
     "height": 142
    },
    "id": "a3liTxjvXrmK",
    "outputId": "cd5c699e-d373-494e-cc21-5a80902264a9"
   },
   "outputs": [
    {
     "data": {
      "text/html": [
       "<div>\n",
       "<style scoped>\n",
       "    .dataframe tbody tr th:only-of-type {\n",
       "        vertical-align: middle;\n",
       "    }\n",
       "\n",
       "    .dataframe tbody tr th {\n",
       "        vertical-align: top;\n",
       "    }\n",
       "\n",
       "    .dataframe thead th {\n",
       "        text-align: right;\n",
       "    }\n",
       "</style>\n",
       "<table border=\"1\" class=\"dataframe\">\n",
       "  <thead>\n",
       "    <tr style=\"text-align: right;\">\n",
       "      <th>occupation</th>\n",
       "      <th>company</th>\n",
       "      <th>retired</th>\n",
       "      <th>salaried</th>\n",
       "      <th>self_employed</th>\n",
       "      <th>student</th>\n",
       "    </tr>\n",
       "    <tr>\n",
       "      <th>gender</th>\n",
       "      <th></th>\n",
       "      <th></th>\n",
       "      <th></th>\n",
       "      <th></th>\n",
       "      <th></th>\n",
       "    </tr>\n",
       "  </thead>\n",
       "  <tbody>\n",
       "    <tr>\n",
       "      <th>Female</th>\n",
       "      <td>6</td>\n",
       "      <td>389</td>\n",
       "      <td>1838</td>\n",
       "      <td>8053</td>\n",
       "      <td>1006</td>\n",
       "    </tr>\n",
       "    <tr>\n",
       "      <th>Male</th>\n",
       "      <td>28</td>\n",
       "      <td>1634</td>\n",
       "      <td>4864</td>\n",
       "      <td>8911</td>\n",
       "      <td>1052</td>\n",
       "    </tr>\n",
       "  </tbody>\n",
       "</table>\n",
       "</div>"
      ],
      "text/plain": [
       "occupation  company  retired  salaried  self_employed  student\n",
       "gender                                                        \n",
       "Female            6      389      1838           8053     1006\n",
       "Male             28     1634      4864           8911     1052"
      ]
     },
     "execution_count": 41,
     "metadata": {},
     "output_type": "execute_result"
    }
   ],
   "source": [
    "pd.crosstab(df['gender'],df['occupation'])"
   ]
  },
  {
   "cell_type": "code",
   "execution_count": 42,
   "metadata": {
    "colab": {
     "base_uri": "https://localhost:8080/",
     "height": 322
    },
    "id": "J5_bJOViY5Bq",
    "outputId": "a7516f70-f3f0-44d5-d4a1-22b5f569dafc"
   },
   "outputs": [
    {
     "data": {
      "text/plain": [
       "<matplotlib.axes._subplots.AxesSubplot at 0x250740a6ba8>"
      ]
     },
     "execution_count": 42,
     "metadata": {},
     "output_type": "execute_result"
    },
    {
     "data": {
      "image/png": "[encoded data removed]",
      "text/plain": [
       "<Figure size 432x288 with 1 Axes>"
      ]
     },
     "metadata": {
      "needs_background": "light"
     },
     "output_type": "display_data"
    }
   ],
   "source": [
    "pd.crosstab(df['gender'],df['occupation']).plot.bar()"
   ]
  },
  {
   "cell_type": "code",
   "execution_count": 43,
   "metadata": {
    "colab": {
     "base_uri": "https://localhost:8080/"
    },
    "id": "kl4rdwbgYPRj",
    "outputId": "76fad4b3-fd6c-4249-83c1-7cf352903130"
   },
   "outputs": [
    {
     "data": {
      "text/plain": [
       "(1263.1194370636574,\n",
       " 3.297621316393365e-272,\n",
       " 4,\n",
       " array([[   13.8198049 ,   822.27839171,  2724.12742522,  6895.26971671,\n",
       "           836.50466146],\n",
       "        [   20.1801951 ,  1200.72160829,  3977.87257478, 10068.73028329,\n",
       "          1221.49533854]]))"
      ]
     },
     "execution_count": 43,
     "metadata": {},
     "output_type": "execute_result"
    }
   ],
   "source": [
    "chi2_contingency(pd.crosstab(df['gender'],df['occupation']))"
   ]
  },
  {
   "cell_type": "code",
   "execution_count": 44,
   "metadata": {
    "colab": {
     "base_uri": "https://localhost:8080/",
     "height": 142
    },
    "id": "c02IjkqpYWEU",
    "outputId": "c3763c83-2304-47a2-852d-0dd47fc8ca02"
   },
   "outputs": [
    {
     "data": {
      "text/html": [
       "<div>\n",
       "<style scoped>\n",
       "    .dataframe tbody tr th:only-of-type {\n",
       "        vertical-align: middle;\n",
       "    }\n",
       "\n",
       "    .dataframe tbody tr th {\n",
       "        vertical-align: top;\n",
       "    }\n",
       "\n",
       "    .dataframe thead th {\n",
       "        text-align: right;\n",
       "    }\n",
       "</style>\n",
       "<table border=\"1\" class=\"dataframe\">\n",
       "  <thead>\n",
       "    <tr style=\"text-align: right;\">\n",
       "      <th>churn</th>\n",
       "      <th>0</th>\n",
       "      <th>1</th>\n",
       "    </tr>\n",
       "    <tr>\n",
       "      <th>gender</th>\n",
       "      <th></th>\n",
       "      <th></th>\n",
       "    </tr>\n",
       "  </thead>\n",
       "  <tbody>\n",
       "    <tr>\n",
       "      <th>Female</th>\n",
       "      <td>9324</td>\n",
       "      <td>1985</td>\n",
       "    </tr>\n",
       "    <tr>\n",
       "      <th>Male</th>\n",
       "      <td>13379</td>\n",
       "      <td>3169</td>\n",
       "    </tr>\n",
       "  </tbody>\n",
       "</table>\n",
       "</div>"
      ],
      "text/plain": [
       "churn       0     1\n",
       "gender             \n",
       "Female   9324  1985\n",
       "Male    13379  3169"
      ]
     },
     "execution_count": 44,
     "metadata": {},
     "output_type": "execute_result"
    }
   ],
   "source": [
    "pd.crosstab(df['gender'],df['churn'])"
   ]
  },
  {
   "cell_type": "code",
   "execution_count": 45,
   "metadata": {
    "colab": {
     "base_uri": "https://localhost:8080/",
     "height": 326
    },
    "id": "WUZZFG7oYiMG",
    "outputId": "1aef27f4-83a2-404b-d22a-d4935ddb6652"
   },
   "outputs": [
    {
     "data": {
      "text/plain": [
       "<matplotlib.axes._subplots.AxesSubplot at 0x2507441e978>"
      ]
     },
     "execution_count": 45,
     "metadata": {},
     "output_type": "execute_result"
    },
    {
     "data": {
      "image/png": "[encoded data removed]",
      "text/plain": [
       "<Figure size 432x288 with 1 Axes>"
      ]
     },
     "metadata": {
      "needs_background": "light"
     },
     "output_type": "display_data"
    }
   ],
   "source": [
    "pd.crosstab(df['gender'],df['churn']).plot.bar()"
   ]
  },
  {
   "cell_type": "code",
   "execution_count": 46,
   "metadata": {
    "colab": {
     "base_uri": "https://localhost:8080/"
    },
    "id": "7kOrxZV5Yqk3",
    "outputId": "64cf94c2-8e0d-40bc-a779-8a205b765ed5"
   },
   "outputs": [
    {
     "data": {
      "text/plain": [
       "(11.270738823296812,\n",
       " 0.0007873838498074115,\n",
       " 1,\n",
       " array([[ 9216.65028539,  2092.34971461],\n",
       "        [13486.34971461,  3061.65028539]]))"
      ]
     },
     "execution_count": 46,
     "metadata": {},
     "output_type": "execute_result"
    }
   ],
   "source": [
    "chi2_contingency(pd.crosstab(df['gender'],df['churn']))"
   ]
  },
  {
   "cell_type": "code",
   "execution_count": 47,
   "metadata": {
    "colab": {
     "base_uri": "https://localhost:8080/",
     "height": 358
    },
    "id": "fd_L9Je8ZK-s",
    "outputId": "df8da929-91d9-4726-86bb-d3914766b501"
   },
   "outputs": [
    {
     "data": {
      "text/plain": [
       "<matplotlib.axes._subplots.AxesSubplot at 0x2507448e8d0>"
      ]
     },
     "execution_count": 47,
     "metadata": {},
     "output_type": "execute_result"
    },
    {
     "data": {
      "image/png": "[encoded data removed]",
      "text/plain": [
       "<Figure size 432x288 with 1 Axes>"
      ]
     },
     "metadata": {
      "needs_background": "light"
     },
     "output_type": "display_data"
    }
   ],
   "source": [
    "pd.crosstab(df['occupation'],df['churn']).plot.bar()"
   ]
  },
  {
   "cell_type": "code",
   "execution_count": 48,
   "metadata": {
    "colab": {
     "base_uri": "https://localhost:8080/",
     "height": 309
    },
    "id": "U1xj0VWnppFd",
    "outputId": "52b53e78-8ea7-4b98-c72c-d006455eb5e8"
   },
   "outputs": [
    {
     "data": {
      "text/plain": [
       "<matplotlib.axes._subplots.AxesSubplot at 0x25075bda748>"
      ]
     },
     "execution_count": 48,
     "metadata": {},
     "output_type": "execute_result"
    },
    {
     "data": {
      "image/png": "[encoded data removed]",
      "text/plain": [
       "<Figure size 432x288 with 1 Axes>"
      ]
     },
     "metadata": {
      "needs_background": "light"
     },
     "output_type": "display_data"
    }
   ],
   "source": [
    "pd.crosstab(df['dependents'],df['churn']).plot.bar()"
   ]
  },
  {
   "cell_type": "code",
   "execution_count": 49,
   "metadata": {
    "colab": {
     "base_uri": "https://localhost:8080/",
     "height": 309
    },
    "id": "OQh4fahNpweQ",
    "outputId": "ac39944d-6de0-4258-e700-56aa27243602"
   },
   "outputs": [
    {
     "data": {
      "text/plain": [
       "<matplotlib.axes._subplots.AxesSubplot at 0x25075c61518>"
      ]
     },
     "execution_count": 49,
     "metadata": {},
     "output_type": "execute_result"
    },
    {
     "data": {
      "image/png": "[encoded data removed]",
      "text/plain": [
       "<Figure size 432x288 with 1 Axes>"
      ]
     },
     "metadata": {
      "needs_background": "light"
     },
     "output_type": "display_data"
    }
   ],
   "source": [
    "pd.crosstab(df['dependents'],df['gender']).plot.bar()"
   ]
  },
  {
   "cell_type": "code",
   "execution_count": 50,
   "metadata": {
    "colab": {
     "base_uri": "https://localhost:8080/",
     "height": 743
    },
    "id": "u1xuUgSwqKUK",
    "outputId": "4c93f474-d35c-4cd3-b96f-9fd70a6799ec"
   },
   "outputs": [
    {
     "data": {
      "text/plain": [
       "<matplotlib.axes._subplots.AxesSubplot at 0x25075ca9a58>"
      ]
     },
     "execution_count": 50,
     "metadata": {},
     "output_type": "execute_result"
    },
    {
     "data": {
      "image/png": "[encoded data removed]",
      "text/plain": [
       "<Figure size 864x864 with 1 Axes>"
      ]
     },
     "metadata": {
      "needs_background": "light"
     },
     "output_type": "display_data"
    }
   ],
   "source": [
    "pd.crosstab(df['dependents'],df['occupation']).plot.bar(figsize=(12,12))"
   ]
  },
  {
   "cell_type": "code",
   "execution_count": 51,
   "metadata": {
    "colab": {
     "base_uri": "https://localhost:8080/",
     "height": 358
    },
    "id": "7iHD4PULySUe",
    "outputId": "a8a4d80a-9e34-4959-e6bb-c0d29b4db4cd"
   },
   "outputs": [
    {
     "data": {
      "text/plain": [
       "<matplotlib.axes._subplots.AxesSubplot at 0x25075d68eb8>"
      ]
     },
     "execution_count": 51,
     "metadata": {},
     "output_type": "execute_result"
    },
    {
     "data": {
      "image/png": "[encoded data removed]",
      "text/plain": [
       "<Figure size 432x288 with 1 Axes>"
      ]
     },
     "metadata": {
      "needs_background": "light"
     },
     "output_type": "display_data"
    }
   ],
   "source": [
    "pd.crosstab(df['occupation'],df['gender']).plot.bar()"
   ]
  },
  {
   "cell_type": "code",
   "execution_count": 52,
   "metadata": {
    "colab": {
     "base_uri": "https://localhost:8080/",
     "height": 293
    },
    "id": "xd47TaL-TycY",
    "outputId": "e9b68a77-97b0-4a9a-da18-3383f84f76ff"
   },
   "outputs": [
    {
     "data": {
      "text/plain": [
       "<matplotlib.axes._subplots.AxesSubplot at 0x25075eef160>"
      ]
     },
     "execution_count": 52,
     "metadata": {},
     "output_type": "execute_result"
    },
    {
     "data": {
      "image/png": "[encoded data removed]",
      "text/plain": [
       "<Figure size 432x288 with 1 Axes>"
      ]
     },
     "metadata": {
      "needs_background": "light"
     },
     "output_type": "display_data"
    }
   ],
   "source": [
    "pd.crosstab(df['customer_nw_category'],df['gender']).plot.bar()"
   ]
  },
  {
   "cell_type": "code",
   "execution_count": 53,
   "metadata": {
    "colab": {
     "base_uri": "https://localhost:8080/",
     "height": 293
    },
    "id": "t2-WiPS7TyQz",
    "outputId": "5f4de25a-4f5a-47f0-9855-0b609972c91b"
   },
   "outputs": [
    {
     "data": {
      "text/plain": [
       "<matplotlib.axes._subplots.AxesSubplot at 0x25075f565c0>"
      ]
     },
     "execution_count": 53,
     "metadata": {},
     "output_type": "execute_result"
    },
    {
     "data": {
      "image/png": "[encoded data removed]",
      "text/plain": [
       "<Figure size 432x288 with 1 Axes>"
      ]
     },
     "metadata": {
      "needs_background": "light"
     },
     "output_type": "display_data"
    }
   ],
   "source": [
    "pd.crosstab(df['customer_nw_category'],df['occupation']).plot.bar()"
   ]
  },
  {
   "cell_type": "code",
   "execution_count": 54,
   "metadata": {
    "colab": {
     "base_uri": "https://localhost:8080/",
     "height": 309
    },
    "id": "PSpAPtQpTyOg",
    "outputId": "85ca156d-b949-4a1e-9390-3b6878618c8f"
   },
   "outputs": [
    {
     "data": {
      "text/plain": [
       "<matplotlib.axes._subplots.AxesSubplot at 0x25075fed3c8>"
      ]
     },
     "execution_count": 54,
     "metadata": {},
     "output_type": "execute_result"
    },
    {
     "data": {
      "image/png": "[encoded data removed]",
      "text/plain": [
       "<Figure size 432x288 with 1 Axes>"
      ]
     },
     "metadata": {
      "needs_background": "light"
     },
     "output_type": "display_data"
    }
   ],
   "source": [
    "pd.crosstab(df['dependents'],df['customer_nw_category']).plot.bar()"
   ]
  },
  {
   "cell_type": "code",
   "execution_count": 55,
   "metadata": {
    "colab": {
     "base_uri": "https://localhost:8080/",
     "height": 293
    },
    "id": "sTHTDspxTyKQ",
    "outputId": "fe5be5b2-b2fc-4935-e791-5d365b929b0b"
   },
   "outputs": [
    {
     "data": {
      "text/plain": [
       "<matplotlib.axes._subplots.AxesSubplot at 0x25074414ba8>"
      ]
     },
     "execution_count": 55,
     "metadata": {},
     "output_type": "execute_result"
    },
    {
     "data": {
      "image/png": "[encoded data removed]",
      "text/plain": [
       "<Figure size 432x288 with 1 Axes>"
      ]
     },
     "metadata": {
      "needs_background": "light"
     },
     "output_type": "display_data"
    }
   ],
   "source": [
    "pd.crosstab(df['customer_nw_category'],df['churn']).plot.bar()"
   ]
  },
  {
   "cell_type": "code",
   "execution_count": 56,
   "metadata": {
    "colab": {
     "base_uri": "https://localhost:8080/"
    },
    "id": "PI9JtrGAVbiZ",
    "outputId": "f824de2e-37f2-4203-d0b2-0e2faa90d3f5"
   },
   "outputs": [
    {
     "data": {
      "text/plain": [
       "dependents\n",
       "0.0     48.307954\n",
       "1.0     48.377778\n",
       "2.0     48.009302\n",
       "3.0     48.907275\n",
       "4.0     49.743017\n",
       "5.0     45.975610\n",
       "6.0     43.750000\n",
       "7.0     47.666667\n",
       "8.0     56.000000\n",
       "9.0     35.000000\n",
       "25.0    30.000000\n",
       "32.0    45.000000\n",
       "36.0    41.000000\n",
       "50.0    58.000000\n",
       "52.0    43.000000\n",
       "Name: age, dtype: float64"
      ]
     },
     "execution_count": 56,
     "metadata": {},
     "output_type": "execute_result"
    }
   ],
   "source": [
    "df.groupby('dependents')['age'].mean()"
   ]
  },
  {
   "cell_type": "code",
   "execution_count": 57,
   "metadata": {
    "colab": {
     "base_uri": "https://localhost:8080/"
    },
    "id": "aOXLwJe3VSkk",
    "outputId": "a0b4099c-d1d3-4d5c-e889-28e9a73e16b1"
   },
   "outputs": [
    {
     "data": {
      "text/plain": [
       "customer_nw_category\n",
       "1    51.109404\n",
       "2    48.483962\n",
       "3    46.746835\n",
       "Name: age, dtype: float64"
      ]
     },
     "execution_count": 57,
     "metadata": {},
     "output_type": "execute_result"
    }
   ],
   "source": [
    "df.groupby('customer_nw_category')['age'].mean()"
   ]
  },
  {
   "cell_type": "code",
   "execution_count": 58,
   "metadata": {
    "colab": {
     "base_uri": "https://localhost:8080/",
     "height": 293
    },
    "id": "WZE6f6MdVc9B",
    "outputId": "b549d786-895b-491b-cbe9-d7e9252d77be"
   },
   "outputs": [
    {
     "data": {
      "text/plain": [
       "<matplotlib.axes._subplots.AxesSubplot at 0x25076120c88>"
      ]
     },
     "execution_count": 58,
     "metadata": {},
     "output_type": "execute_result"
    },
    {
     "data": {
      "image/png": "[encoded data removed]",
      "text/plain": [
       "<Figure size 432x288 with 1 Axes>"
      ]
     },
     "metadata": {
      "needs_background": "light"
     },
     "output_type": "display_data"
    }
   ],
   "source": [
    "df.groupby('customer_nw_category')['age'].mean().plot.bar()"
   ]
  },
  {
   "cell_type": "code",
   "execution_count": 59,
   "metadata": {
    "colab": {
     "base_uri": "https://localhost:8080/"
    },
    "id": "y2Za0alIZZgr",
    "outputId": "42394d71-dbb6-4a81-c770-5c35b4296319"
   },
   "outputs": [
    {
     "data": {
      "text/plain": [
       "(57.33701557319584,\n",
       " 1.051286209239775e-11,\n",
       " 4,\n",
       " array([[3.25842697e+01, 7.41573034e+00],\n",
       "        [1.64876404e+03, 3.75235955e+02],\n",
       "        [5.46112360e+03, 1.24287640e+03],\n",
       "        [1.42360674e+04, 3.23993258e+03],\n",
       "        [1.67646067e+03, 3.81539326e+02]]))"
      ]
     },
     "execution_count": 59,
     "metadata": {},
     "output_type": "execute_result"
    }
   ],
   "source": [
    "chi2_contingency(pd.crosstab(df['occupation'],df['churn']))"
   ]
  },
  {
   "cell_type": "code",
   "execution_count": 60,
   "metadata": {
    "colab": {
     "base_uri": "https://localhost:8080/"
    },
    "id": "lfRh-4kgZqFL",
    "outputId": "e1a91512-79a9-4f33-ce04-df8e14cf479e"
   },
   "outputs": [
    {
     "data": {
      "text/plain": [
       "customer_id                          0\n",
       "vintage                              0\n",
       "age                                  0\n",
       "gender                             525\n",
       "dependents                        2463\n",
       "occupation                          80\n",
       "city                               803\n",
       "customer_nw_category                 0\n",
       "branch_code                          0\n",
       "days_since_last_transaction       3223\n",
       "current_balance                      0\n",
       "previous_month_end_balance           0\n",
       "average_monthly_balance_prevQ        0\n",
       "average_monthly_balance_prevQ2       0\n",
       "current_month_credit                 0\n",
       "previous_month_credit                0\n",
       "current_month_debit                  0\n",
       "previous_month_debit                 0\n",
       "current_month_balance                0\n",
       "previous_month_balance               0\n",
       "churn                                0\n",
       "dtype: int64"
      ]
     },
     "execution_count": 60,
     "metadata": {},
     "output_type": "execute_result"
    }
   ],
   "source": [
    "df.isnull().sum()"
   ]
  },
  {
   "cell_type": "markdown",
   "metadata": {
    "id": "BqwUyX9Ke5kX"
   },
   "source": [
    "# Data Preprocessing"
   ]
  },
  {
   "cell_type": "markdown",
   "metadata": {
    "id": "m2XZW9WpVIdn"
   },
   "source": [
    "## Create dummy varible for gender and fill NaN values"
   ]
  },
  {
   "cell_type": "code",
   "execution_count": 61,
   "metadata": {
    "colab": {
     "base_uri": "https://localhost:8080/"
    },
    "id": "RO2TXtZWWl5p",
    "outputId": "a5eed361-ad9c-4db6-cab1-a2c32f233899"
   },
   "outputs": [
    {
     "data": {
      "text/plain": [
       "customer_id                          0\n",
       "vintage                              0\n",
       "age                                  0\n",
       "gender                             525\n",
       "dependents                        2463\n",
       "occupation                          80\n",
       "city                               803\n",
       "customer_nw_category                 0\n",
       "branch_code                          0\n",
       "days_since_last_transaction       3223\n",
       "current_balance                      0\n",
       "previous_month_end_balance           0\n",
       "average_monthly_balance_prevQ        0\n",
       "average_monthly_balance_prevQ2       0\n",
       "current_month_credit                 0\n",
       "previous_month_credit                0\n",
       "current_month_debit                  0\n",
       "previous_month_debit                 0\n",
       "current_month_balance                0\n",
       "previous_month_balance               0\n",
       "churn                                0\n",
       "dtype: int64"
      ]
     },
     "execution_count": 61,
     "metadata": {},
     "output_type": "execute_result"
    }
   ],
   "source": [
    "df.isnull().sum()"
   ]
  },
  {
   "cell_type": "markdown",
   "metadata": {
    "id": "MI36-NQ8YjUk"
   },
   "source": [
    "Fill gender by mode value"
   ]
  },
  {
   "cell_type": "code",
   "execution_count": 62,
   "metadata": {
    "id": "JdaLqSjrgQP5"
   },
   "outputs": [],
   "source": [
    "df['gender']=pd.get_dummies(df['gender'],drop_first=True)"
   ]
  },
  {
   "cell_type": "code",
   "execution_count": 63,
   "metadata": {
    "id": "Ra1GsbtMgUpF"
   },
   "outputs": [],
   "source": [
    "df['gender'].fillna(df['gender'].mode(),inplace=True)"
   ]
  },
  {
   "cell_type": "code",
   "execution_count": 64,
   "metadata": {
    "colab": {
     "base_uri": "https://localhost:8080/"
    },
    "id": "TOhgWlLTpaEl",
    "outputId": "668a7583-44fe-4b76-fa40-f9664e7dd57d"
   },
   "outputs": [
    {
     "data": {
      "text/plain": [
       "(28382, 21)"
      ]
     },
     "execution_count": 64,
     "metadata": {},
     "output_type": "execute_result"
    }
   ],
   "source": [
    "df.shape"
   ]
  },
  {
   "cell_type": "markdown",
   "metadata": {
    "id": "PtAnT-U6Yt8J"
   },
   "source": [
    "fill occupation we anlysys if age is less than 20 so it is student and age is more tahn 70 so there is high chance of retaired person. and if dependents is 0 so there is high chance of student"
   ]
  },
  {
   "cell_type": "code",
   "execution_count": 65,
   "metadata": {
    "id": "df00W6zraw75"
   },
   "outputs": [],
   "source": [
    "df.loc[(df['age']<=25 ) & (df['occupation'].isnull()), 'occupation'] = 'student'"
   ]
  },
  {
   "cell_type": "code",
   "execution_count": 66,
   "metadata": {
    "id": "lA9xtXOIawgv"
   },
   "outputs": [],
   "source": [
    "df.loc[(df['age']>=70 ) & (df['occupation'].isnull()), 'occupation'] = 'retired'"
   ]
  },
  {
   "cell_type": "code",
   "execution_count": 67,
   "metadata": {
    "id": "lk0d48CSawVn"
   },
   "outputs": [],
   "source": [
    "df.loc[(df['dependents']==0 ) & (df['occupation'].isnull()), 'occupation'] = 'student'"
   ]
  },
  {
   "cell_type": "markdown",
   "metadata": {
    "id": "doS8ycIvgYqa"
   },
   "source": [
    "fill dpendents if occupation is student dependent is zero and age is less than 25 dependent is also zero"
   ]
  },
  {
   "cell_type": "code",
   "execution_count": 68,
   "metadata": {
    "id": "y7A2u1IqgXM7"
   },
   "outputs": [],
   "source": [
    "df.loc[(df['occupation'] == 'student' ) & (df['dependents'].isnull()), 'dependents'] = 0"
   ]
  },
  {
   "cell_type": "code",
   "execution_count": 69,
   "metadata": {
    "id": "boaO_wv2gXCc"
   },
   "outputs": [],
   "source": [
    "df.loc[(df['occupation'] == 'retired' ) & (df['dependents'].isnull()), 'dependents'] = 2"
   ]
  },
  {
   "cell_type": "code",
   "execution_count": 70,
   "metadata": {
    "id": "XVumG9JjgW4H"
   },
   "outputs": [],
   "source": [
    "df.loc[(df['age']<=25 ) & (df['dependents'].isnull()), 'dependents'] = 0"
   ]
  },
  {
   "cell_type": "code",
   "execution_count": 71,
   "metadata": {
    "id": "S6MtQNVbg1oD"
   },
   "outputs": [],
   "source": [
    "df.loc[(df['age']<=30 ) & (df['dependents'].isnull()), 'dependents'] = 1"
   ]
  },
  {
   "cell_type": "code",
   "execution_count": 72,
   "metadata": {
    "colab": {
     "base_uri": "https://localhost:8080/",
     "height": 282
    },
    "id": "noz7T97cg1dP",
    "outputId": "ce840357-9181-4ab0-fce0-3a9ce4260a42"
   },
   "outputs": [
    {
     "data": {
      "text/plain": [
       "<matplotlib.axes._subplots.AxesSubplot at 0x250773d1fd0>"
      ]
     },
     "execution_count": 72,
     "metadata": {},
     "output_type": "execute_result"
    },
    {
     "data": {
      "image/png": "[encoded data removed]",
      "text/plain": [
       "<Figure size 432x288 with 1 Axes>"
      ]
     },
     "metadata": {
      "needs_background": "light"
     },
     "output_type": "display_data"
    }
   ],
   "source": [
    "pd.crosstab(df['days_since_last_transaction'],df['occupation']).plot.hist()"
   ]
  },
  {
   "cell_type": "markdown",
   "metadata": {
    "id": "BET9p0U8h7oN"
   },
   "source": [
    "here clearly seen day since last transaction less than 100 is always a student"
   ]
  },
  {
   "cell_type": "code",
   "execution_count": 73,
   "metadata": {
    "id": "9GaV2cHoh4bq"
   },
   "outputs": [],
   "source": [
    "df.loc[(df['days_since_last_transaction']<=100 ) & (df['occupation'].isnull()), 'occupation'] = 'student'"
   ]
  },
  {
   "cell_type": "code",
   "execution_count": 74,
   "metadata": {
    "id": "XfbEFRBzh4Vt"
   },
   "outputs": [],
   "source": [
    "df.loc[(df['days_since_last_transaction']<=400 ) & (df['occupation'].isnull()), 'occupation'] = 'self_employed'"
   ]
  },
  {
   "cell_type": "markdown",
   "metadata": {
    "id": "n0-Ol5Qdi8af"
   },
   "source": [
    "if a occupation is student so day since last trasction is between 1 to 100"
   ]
  },
  {
   "cell_type": "code",
   "execution_count": 75,
   "metadata": {
    "id": "anbChq4Eh4TY"
   },
   "outputs": [],
   "source": [
    "df.loc[(df['occupation']=='student' ) & (df['days_since_last_transaction'].isnull()), 'days_since_last_transaction'] = 50"
   ]
  },
  {
   "cell_type": "code",
   "execution_count": 76,
   "metadata": {
    "id": "lLMz-8GAh4P_"
   },
   "outputs": [],
   "source": [
    "df.loc[(df['occupation']=='self_employed' ) & (df['days_since_last_transaction'].isnull()), 'days_since_last_transaction'] = 250"
   ]
  },
  {
   "cell_type": "code",
   "execution_count": 77,
   "metadata": {
    "id": "Yg0bC4FAh4NW"
   },
   "outputs": [],
   "source": [
    "\n",
    "df.drop(df[df['dependents'] >6].index, inplace = True)"
   ]
  },
  {
   "cell_type": "markdown",
   "metadata": {
    "id": "rrjl1fn1l9Xt"
   },
   "source": [
    "## drop Unwanted columns or postivily corelated columns"
   ]
  },
  {
   "cell_type": "code",
   "execution_count": 78,
   "metadata": {
    "id": "LPcYZBHch4Kj"
   },
   "outputs": [],
   "source": [
    "df.drop(['current_balance','previous_month_end_balance','average_monthly_balance_prevQ','average_monthly_balance_prevQ2','branch_code','customer_id','city','previous_month_balance'],axis=1, inplace=True)"
   ]
  },
  {
   "cell_type": "code",
   "execution_count": 79,
   "metadata": {
    "colab": {
     "base_uri": "https://localhost:8080/"
    },
    "id": "itSbQPj_h4HU",
    "outputId": "f6189b77-9db8-4147-a21c-6706bcb152ec"
   },
   "outputs": [
    {
     "data": {
      "text/plain": [
       "vintage                           0\n",
       "age                               0\n",
       "gender                            0\n",
       "dependents                     1743\n",
       "occupation                        1\n",
       "customer_nw_category              0\n",
       "days_since_last_transaction     888\n",
       "current_month_credit              0\n",
       "previous_month_credit             0\n",
       "current_month_debit               0\n",
       "previous_month_debit              0\n",
       "current_month_balance             0\n",
       "churn                             0\n",
       "dtype: int64"
      ]
     },
     "execution_count": 79,
     "metadata": {},
     "output_type": "execute_result"
    }
   ],
   "source": [
    "df.isnull().sum()"
   ]
  },
  {
   "cell_type": "code",
   "execution_count": null,
   "metadata": {},
   "outputs": [],
   "source": []
  },
  {
   "cell_type": "code",
   "execution_count": null,
   "metadata": {},
   "outputs": [],
   "source": []
  },
  {
   "cell_type": "markdown",
   "metadata": {
    "id": "bW_n4CoJERaF"
   },
   "source": [
    "## Drop all the Nan value"
   ]
  },
  {
   "cell_type": "code",
   "execution_count": 80,
   "metadata": {
    "id": "LbCP0PCVmii3"
   },
   "outputs": [],
   "source": [
    "df.dropna(inplace=True)"
   ]
  },
  {
   "cell_type": "code",
   "execution_count": 81,
   "metadata": {
    "colab": {
     "base_uri": "https://localhost:8080/"
    },
    "id": "CdTeGBi2mid1",
    "outputId": "6ff7aa04-b00e-4254-af57-222ca2315ba1"
   },
   "outputs": [
    {
     "data": {
      "text/plain": [
       "(25773, 13)"
      ]
     },
     "execution_count": 81,
     "metadata": {},
     "output_type": "execute_result"
    }
   ],
   "source": [
    "df.shape"
   ]
  },
  {
   "cell_type": "markdown",
   "metadata": {
    "id": "U8YF2wPmEkyp"
   },
   "source": [
    "## outlier detection"
   ]
  },
  {
   "cell_type": "code",
   "execution_count": 82,
   "metadata": {
    "colab": {
     "base_uri": "https://localhost:8080/",
     "height": 296
    },
    "id": "XDU0sQ6PmiYv",
    "outputId": "7f26c12e-48f8-4fd9-f00c-0983e4f78caf"
   },
   "outputs": [
    {
     "data": {
      "text/plain": [
       "<matplotlib.axes._subplots.AxesSubplot at 0x250774c9780>"
      ]
     },
     "execution_count": 82,
     "metadata": {},
     "output_type": "execute_result"
    },
    {
     "data": {
      "image/png": "[encoded data removed]",
      "text/plain": [
       "<Figure size 432x288 with 1 Axes>"
      ]
     },
     "metadata": {
      "needs_background": "light"
     },
     "output_type": "display_data"
    }
   ],
   "source": [
    "sns.boxplot(x=\"gender\", y=\"vintage\", data=df)"
   ]
  },
  {
   "cell_type": "code",
   "execution_count": 83,
   "metadata": {
    "colab": {
     "base_uri": "https://localhost:8080/",
     "height": 296
    },
    "id": "RuiBZ815miS1",
    "outputId": "2529779b-a4fd-451e-efd7-a8b43fed3ae7"
   },
   "outputs": [
    {
     "data": {
      "text/plain": [
       "<matplotlib.axes._subplots.AxesSubplot at 0x250776abbe0>"
      ]
     },
     "execution_count": 83,
     "metadata": {},
     "output_type": "execute_result"
    },
    {
     "data": {
      "image/png": "[encoded data removed]",
      "text/plain": [
       "<Figure size 432x288 with 1 Axes>"
      ]
     },
     "metadata": {
      "needs_background": "light"
     },
     "output_type": "display_data"
    }
   ],
   "source": [
    "sns.boxplot(x=\"gender\", y=\"age\", data=df)"
   ]
  },
  {
   "cell_type": "code",
   "execution_count": 84,
   "metadata": {
    "colab": {
     "base_uri": "https://localhost:8080/",
     "height": 351
    },
    "id": "RCV6aGQ5miKs",
    "outputId": "25bf3a8c-51f1-4553-ffec-bec6850feb3a"
   },
   "outputs": [
    {
     "data": {
      "text/plain": [
       "<matplotlib.axes._subplots.AxesSubplot at 0x2507771b128>"
      ]
     },
     "execution_count": 84,
     "metadata": {},
     "output_type": "execute_result"
    },
    {
     "data": {
      "image/png": "[encoded data removed]",
      "text/plain": [
       "<Figure size 432x288 with 1 Axes>"
      ]
     },
     "metadata": {
      "needs_background": "light"
     },
     "output_type": "display_data"
    }
   ],
   "source": [
    "sns.boxplot(df['current_month_credit'])"
   ]
  },
  {
   "cell_type": "code",
   "execution_count": 85,
   "metadata": {
    "colab": {
     "base_uri": "https://localhost:8080/",
     "height": 351
    },
    "id": "Ofi1VdZFIVuG",
    "outputId": "55991dc5-7ffd-46c4-988c-8eba08beb0cb"
   },
   "outputs": [
    {
     "data": {
      "text/plain": [
       "<matplotlib.axes._subplots.AxesSubplot at 0x2507777dc18>"
      ]
     },
     "execution_count": 85,
     "metadata": {},
     "output_type": "execute_result"
    },
    {
     "data": {
      "image/png": "[encoded data removed]",
      "text/plain": [
       "<Figure size 432x288 with 1 Axes>"
      ]
     },
     "metadata": {
      "needs_background": "light"
     },
     "output_type": "display_data"
    }
   ],
   "source": [
    "sns.boxplot(df['current_month_debit'])"
   ]
  },
  {
   "cell_type": "code",
   "execution_count": 86,
   "metadata": {
    "colab": {
     "base_uri": "https://localhost:8080/",
     "height": 351
    },
    "id": "llkrKKQZIVrF",
    "outputId": "4ca51db1-bc58-4f6d-f08b-41a06a552953"
   },
   "outputs": [
    {
     "data": {
      "text/plain": [
       "<matplotlib.axes._subplots.AxesSubplot at 0x250777d5978>"
      ]
     },
     "execution_count": 86,
     "metadata": {},
     "output_type": "execute_result"
    },
    {
     "data": {
      "image/png": "[encoded data removed]",
      "text/plain": [
       "<Figure size 432x288 with 1 Axes>"
      ]
     },
     "metadata": {
      "needs_background": "light"
     },
     "output_type": "display_data"
    }
   ],
   "source": [
    "sns.boxplot(df['previous_month_credit'])"
   ]
  },
  {
   "cell_type": "code",
   "execution_count": 87,
   "metadata": {},
   "outputs": [
    {
     "data": {
      "text/plain": [
       "Index(['vintage', 'age', 'gender', 'dependents', 'occupation',\n",
       "       'customer_nw_category', 'days_since_last_transaction',\n",
       "       'current_month_credit', 'previous_month_credit', 'current_month_debit',\n",
       "       'previous_month_debit', 'current_month_balance', 'churn'],\n",
       "      dtype='object')"
      ]
     },
     "execution_count": 87,
     "metadata": {},
     "output_type": "execute_result"
    }
   ],
   "source": [
    "df.columns"
   ]
  },
  {
   "cell_type": "code",
   "execution_count": 88,
   "metadata": {},
   "outputs": [],
   "source": [
    "data=df[['vintage','days_since_last_transaction','current_month_credit','previous_month_credit','current_month_debit','previous_month_debit','current_month_balance']].copy()"
   ]
  },
  {
   "cell_type": "code",
   "execution_count": 89,
   "metadata": {},
   "outputs": [
    {
     "name": "stdout",
     "output_type": "stream",
     "text": [
      "vintage                        2018.00\n",
      "days_since_last_transaction     106.00\n",
      "current_month_credit            756.27\n",
      "previous_month_credit           857.26\n",
      "current_month_debit            1428.40\n",
      "previous_month_debit           1428.43\n",
      "current_month_balance          4643.03\n",
      "dtype: float64\n"
     ]
    }
   ],
   "source": [
    "Q1 = data.quantile(0.25)\n",
    "Q3 = data.quantile(0.75)\n",
    "IQR = Q3 - Q1\n",
    "print(IQR)"
   ]
  },
  {
   "cell_type": "code",
   "execution_count": 90,
   "metadata": {},
   "outputs": [
    {
     "data": {
      "text/plain": [
       "(14728, 7)"
      ]
     },
     "execution_count": 90,
     "metadata": {},
     "output_type": "execute_result"
    }
   ],
   "source": [
    "data1 = data[~((data < (Q1 - 1.5 * IQR)) |(data > (Q3 + 1.5 * IQR))).any(axis=1)]\n",
    "data1.shape"
   ]
  },
  {
   "cell_type": "code",
   "execution_count": 91,
   "metadata": {
    "id": "8hqlBQiNbVKC"
   },
   "outputs": [],
   "source": [
    "data2=df[['age','gender','dependents','occupation','customer_nw_category','churn']]"
   ]
  },
  {
   "cell_type": "code",
   "execution_count": 92,
   "metadata": {
    "id": "nBDQpvnAbU9z"
   },
   "outputs": [],
   "source": [
    "new = data1.merge(data2, left_index=True, right_index=True)"
   ]
  },
  {
   "cell_type": "code",
   "execution_count": 93,
   "metadata": {},
   "outputs": [
    {
     "data": {
      "text/plain": [
       "0    87.106192\n",
       "1    12.893808\n",
       "Name: churn, dtype: float64"
      ]
     },
     "execution_count": 93,
     "metadata": {},
     "output_type": "execute_result"
    }
   ],
   "source": [
    "(new['churn'].value_counts()/len(new['churn'])*100)"
   ]
  },
  {
   "cell_type": "code",
   "execution_count": 94,
   "metadata": {},
   "outputs": [
    {
     "data": {
      "text/plain": [
       "<matplotlib.axes._subplots.AxesSubplot at 0x250778373c8>"
      ]
     },
     "execution_count": 94,
     "metadata": {},
     "output_type": "execute_result"
    },
    {
     "data": {
      "image/png": "[encoded data removed]",
      "text/plain": [
       "<Figure size 432x288 with 1 Axes>"
      ]
     },
     "metadata": {
      "needs_background": "light"
     },
     "output_type": "display_data"
    }
   ],
   "source": [
    "(new['churn'].value_counts()/len(new['churn'])*100).plot.bar()"
   ]
  },
  {
   "cell_type": "markdown",
   "metadata": {},
   "source": [
    "# Feature Selection"
   ]
  },
  {
   "cell_type": "code",
   "execution_count": 95,
   "metadata": {},
   "outputs": [],
   "source": [
    "encoder=LabelEncoder()\n",
    "new['occupation']= encoder.fit_transform(new['occupation']) "
   ]
  },
  {
   "cell_type": "code",
   "execution_count": 96,
   "metadata": {},
   "outputs": [
    {
     "data": {
      "text/html": [
       "<div>\n",
       "<style scoped>\n",
       "    .dataframe tbody tr th:only-of-type {\n",
       "        vertical-align: middle;\n",
       "    }\n",
       "\n",
       "    .dataframe tbody tr th {\n",
       "        vertical-align: top;\n",
       "    }\n",
       "\n",
       "    .dataframe thead th {\n",
       "        text-align: right;\n",
       "    }\n",
       "</style>\n",
       "<table border=\"1\" class=\"dataframe\">\n",
       "  <thead>\n",
       "    <tr style=\"text-align: right;\">\n",
       "      <th></th>\n",
       "      <th>vintage</th>\n",
       "      <th>days_since_last_transaction</th>\n",
       "      <th>current_month_credit</th>\n",
       "      <th>previous_month_credit</th>\n",
       "      <th>current_month_debit</th>\n",
       "      <th>previous_month_debit</th>\n",
       "      <th>current_month_balance</th>\n",
       "      <th>age</th>\n",
       "      <th>gender</th>\n",
       "      <th>dependents</th>\n",
       "      <th>occupation</th>\n",
       "      <th>customer_nw_category</th>\n",
       "      <th>churn</th>\n",
       "    </tr>\n",
       "  </thead>\n",
       "  <tbody>\n",
       "    <tr>\n",
       "      <th>0</th>\n",
       "      <td>3135</td>\n",
       "      <td>224.0</td>\n",
       "      <td>0.20</td>\n",
       "      <td>0.20</td>\n",
       "      <td>0.20</td>\n",
       "      <td>0.20</td>\n",
       "      <td>1458.71</td>\n",
       "      <td>66</td>\n",
       "      <td>1</td>\n",
       "      <td>0.0</td>\n",
       "      <td>3</td>\n",
       "      <td>2</td>\n",
       "      <td>0</td>\n",
       "    </tr>\n",
       "    <tr>\n",
       "      <th>4</th>\n",
       "      <td>2531</td>\n",
       "      <td>58.0</td>\n",
       "      <td>0.33</td>\n",
       "      <td>714.61</td>\n",
       "      <td>588.62</td>\n",
       "      <td>1538.06</td>\n",
       "      <td>1157.15</td>\n",
       "      <td>42</td>\n",
       "      <td>1</td>\n",
       "      <td>2.0</td>\n",
       "      <td>3</td>\n",
       "      <td>3</td>\n",
       "      <td>1</td>\n",
       "    </tr>\n",
       "  </tbody>\n",
       "</table>\n",
       "</div>"
      ],
      "text/plain": [
       "   vintage  days_since_last_transaction  current_month_credit  \\\n",
       "0     3135                        224.0                  0.20   \n",
       "4     2531                         58.0                  0.33   \n",
       "\n",
       "   previous_month_credit  current_month_debit  previous_month_debit  \\\n",
       "0                   0.20                 0.20                  0.20   \n",
       "4                 714.61               588.62               1538.06   \n",
       "\n",
       "   current_month_balance  age  gender  dependents  occupation  \\\n",
       "0                1458.71   66       1         0.0           3   \n",
       "4                1157.15   42       1         2.0           3   \n",
       "\n",
       "   customer_nw_category  churn  \n",
       "0                     2      0  \n",
       "4                     3      1  "
      ]
     },
     "execution_count": 96,
     "metadata": {},
     "output_type": "execute_result"
    }
   ],
   "source": [
    "new.head(2)"
   ]
  },
  {
   "cell_type": "code",
   "execution_count": 97,
   "metadata": {},
   "outputs": [
    {
     "name": "stderr",
     "output_type": "stream",
     "text": [
      "C:\\ProgramData\\Anaconda3\\lib\\site-packages\\sklearn\\ensemble\\forest.py:246: FutureWarning: The default value of n_estimators will change from 10 in version 0.20 to 100 in 0.22.\n",
      "  \"10 in version 0.20 to 100 in 0.22.\", FutureWarning)\n"
     ]
    },
    {
     "name": "stdout",
     "output_type": "stream",
     "text": [
      "[0.09831452 0.09130809 0.09099249 0.08483341 0.1429993  0.10884871\n",
      " 0.16354678 0.09721364 0.01502067 0.02963389 0.04005166 0.03723684]\n"
     ]
    },
    {
     "data": {
      "image/png": "[encoded data removed]",
      "text/plain": [
       "<Figure size 432x288 with 1 Axes>"
      ]
     },
     "metadata": {
      "needs_background": "light"
     },
     "output_type": "display_data"
    }
   ],
   "source": [
    "\n",
    "X = new.iloc[:,0:12]  #independent columns\n",
    "y = new.iloc[:,-1]    #target column i.e price range\n",
    "from sklearn.ensemble import ExtraTreesClassifier\n",
    "import matplotlib.pyplot as plt\n",
    "model = ExtraTreesClassifier()\n",
    "model.fit(X,y)\n",
    "print(model.feature_importances_) #use inbuilt class feature_importances of tree based classifiers\n",
    "#plot graph of feature importances for better visualization\n",
    "feat_importances = pd.Series(model.feature_importances_, index=X.columns)\n",
    "feat_importances.nlargest(10).plot(kind='barh')\n",
    "plt.show()"
   ]
  },
  {
   "cell_type": "code",
   "execution_count": 126,
   "metadata": {},
   "outputs": [],
   "source": [
    "new=new[['vintage','days_since_last_transaction','current_month_credit','previous_month_credit','current_month_debit','previous_month_debit','current_month_balance','age','occupation','customer_nw_category']].copy()"
   ]
  },
  {
   "cell_type": "markdown",
   "metadata": {},
   "source": [
    "# standradization of data"
   ]
  },
  {
   "cell_type": "code",
   "execution_count": 142,
   "metadata": {},
   "outputs": [
    {
     "name": "stderr",
     "output_type": "stream",
     "text": [
      "C:\\ProgramData\\Anaconda3\\lib\\site-packages\\sklearn\\preprocessing\\data.py:334: DataConversionWarning: Data with input dtype int32, int64, float64 were all converted to float64 by MinMaxScaler.\n",
      "  return self.partial_fit(X, y)\n"
     ]
    }
   ],
   "source": [
    "from sklearn import preprocessing\n",
    "# Get column names first\n",
    "names = new.columns\n",
    "# Create the Scaler object\n",
    "scaler = preprocessing.MinMaxScaler()\n",
    "# Fit your data on the scaler object\n",
    "scaled_df = scaler.fit_transform(new)\n",
    "scaled_df = pd.DataFrame(scaled_df, columns=names)"
   ]
  },
  {
   "cell_type": "code",
   "execution_count": 143,
   "metadata": {},
   "outputs": [
    {
     "data": {
      "text/html": [
       "<div>\n",
       "<style scoped>\n",
       "    .dataframe tbody tr th:only-of-type {\n",
       "        vertical-align: middle;\n",
       "    }\n",
       "\n",
       "    .dataframe tbody tr th {\n",
       "        vertical-align: top;\n",
       "    }\n",
       "\n",
       "    .dataframe thead th {\n",
       "        text-align: right;\n",
       "    }\n",
       "</style>\n",
       "<table border=\"1\" class=\"dataframe\">\n",
       "  <thead>\n",
       "    <tr style=\"text-align: right;\">\n",
       "      <th></th>\n",
       "      <th>vintage</th>\n",
       "      <th>days_since_last_transaction</th>\n",
       "      <th>current_month_credit</th>\n",
       "      <th>previous_month_credit</th>\n",
       "      <th>current_month_debit</th>\n",
       "      <th>previous_month_debit</th>\n",
       "      <th>current_month_balance</th>\n",
       "      <th>age</th>\n",
       "      <th>occupation</th>\n",
       "      <th>customer_nw_category</th>\n",
       "    </tr>\n",
       "  </thead>\n",
       "  <tbody>\n",
       "    <tr>\n",
       "      <th>0</th>\n",
       "      <td>0.483080</td>\n",
       "      <td>0.808664</td>\n",
       "      <td>0.000101</td>\n",
       "      <td>0.000089</td>\n",
       "      <td>0.000053</td>\n",
       "      <td>0.000053</td>\n",
       "      <td>0.284645</td>\n",
       "      <td>0.730337</td>\n",
       "      <td>0.75</td>\n",
       "      <td>0.5</td>\n",
       "    </tr>\n",
       "    <tr>\n",
       "      <th>1</th>\n",
       "      <td>0.384339</td>\n",
       "      <td>0.209386</td>\n",
       "      <td>0.000169</td>\n",
       "      <td>0.333383</td>\n",
       "      <td>0.165133</td>\n",
       "      <td>0.430650</td>\n",
       "      <td>0.266884</td>\n",
       "      <td>0.460674</td>\n",
       "      <td>0.75</td>\n",
       "      <td>1.0</td>\n",
       "    </tr>\n",
       "    <tr>\n",
       "      <th>2</th>\n",
       "      <td>0.938695</td>\n",
       "      <td>0.353791</td>\n",
       "      <td>0.000333</td>\n",
       "      <td>0.000294</td>\n",
       "      <td>0.364608</td>\n",
       "      <td>0.122989</td>\n",
       "      <td>0.615492</td>\n",
       "      <td>0.797753</td>\n",
       "      <td>0.25</td>\n",
       "      <td>0.0</td>\n",
       "    </tr>\n",
       "    <tr>\n",
       "      <th>3</th>\n",
       "      <td>0.319111</td>\n",
       "      <td>0.068592</td>\n",
       "      <td>0.378218</td>\n",
       "      <td>0.056488</td>\n",
       "      <td>0.200451</td>\n",
       "      <td>0.100640</td>\n",
       "      <td>0.268433</td>\n",
       "      <td>0.337079</td>\n",
       "      <td>0.50</td>\n",
       "      <td>0.5</td>\n",
       "    </tr>\n",
       "    <tr>\n",
       "      <th>4</th>\n",
       "      <td>0.078633</td>\n",
       "      <td>0.018051</td>\n",
       "      <td>0.234707</td>\n",
       "      <td>0.000247</td>\n",
       "      <td>0.000149</td>\n",
       "      <td>0.058458</td>\n",
       "      <td>0.293351</td>\n",
       "      <td>0.752809</td>\n",
       "      <td>0.25</td>\n",
       "      <td>1.0</td>\n",
       "    </tr>\n",
       "  </tbody>\n",
       "</table>\n",
       "</div>"
      ],
      "text/plain": [
       "    vintage  days_since_last_transaction  current_month_credit  \\\n",
       "0  0.483080                     0.808664              0.000101   \n",
       "1  0.384339                     0.209386              0.000169   \n",
       "2  0.938695                     0.353791              0.000333   \n",
       "3  0.319111                     0.068592              0.378218   \n",
       "4  0.078633                     0.018051              0.234707   \n",
       "\n",
       "   previous_month_credit  current_month_debit  previous_month_debit  \\\n",
       "0               0.000089             0.000053              0.000053   \n",
       "1               0.333383             0.165133              0.430650   \n",
       "2               0.000294             0.364608              0.122989   \n",
       "3               0.056488             0.200451              0.100640   \n",
       "4               0.000247             0.000149              0.058458   \n",
       "\n",
       "   current_month_balance       age  occupation  customer_nw_category  \n",
       "0               0.284645  0.730337        0.75                   0.5  \n",
       "1               0.266884  0.460674        0.75                   1.0  \n",
       "2               0.615492  0.797753        0.25                   0.0  \n",
       "3               0.268433  0.337079        0.50                   0.5  \n",
       "4               0.293351  0.752809        0.25                   1.0  "
      ]
     },
     "execution_count": 143,
     "metadata": {},
     "output_type": "execute_result"
    }
   ],
   "source": [
    "scaled_df.head()"
   ]
  },
  {
   "cell_type": "code",
   "execution_count": 125,
   "metadata": {},
   "outputs": [
    {
     "name": "stderr",
     "output_type": "stream",
     "text": [
      "C:\\ProgramData\\Anaconda3\\lib\\site-packages\\sklearn\\utils\\validation.py:595: DataConversionWarning: Data with input dtype int32 was converted to float64 by MinMaxScaler.\n",
      "  warnings.warn(msg, DataConversionWarning)\n"
     ]
    },
    {
     "data": {
      "text/plain": [
       "MinMaxScaler(copy=True, feature_range=(0, 1))"
      ]
     },
     "execution_count": 125,
     "metadata": {},
     "output_type": "execute_result"
    }
   ],
   "source": [
    "scaler.(np.array([232,1234,24,432,23,34,12,354,23,52,14,15,15]).reshape(-1,1))"
   ]
  },
  {
   "cell_type": "code",
   "execution_count": 140,
   "metadata": {},
   "outputs": [],
   "source": [
    "tt=scaler.transform(np.array([12,12,12,12,12,12,12,12,12,12]).reshape(-1,1).T)"
   ]
  },
  {
   "cell_type": "code",
   "execution_count": 141,
   "metadata": {},
   "outputs": [
    {
     "data": {
      "text/plain": [
       "array([[12., 12., 12., 12., 12., 12., 12., 12., 12., 12.]])"
      ]
     },
     "execution_count": 141,
     "metadata": {},
     "output_type": "execute_result"
    }
   ],
   "source": [
    "scaler.inverse_transform(tt)"
   ]
  },
  {
   "cell_type": "code",
   "execution_count": null,
   "metadata": {},
   "outputs": [],
   "source": []
  },
  {
   "cell_type": "markdown",
   "metadata": {
    "id": "_2_OF2AehjXI"
   },
   "source": [
    "# Predictive Modeling"
   ]
  },
  {
   "cell_type": "code",
   "execution_count": 179,
   "metadata": {
    "id": "wMb_o5cWhHUD"
   },
   "outputs": [],
   "source": [
    "x=scaled_df[['vintage','days_since_last_transaction','current_month_credit','previous_month_credit','current_month_debit','previous_month_debit','current_month_balance','age','occupation','customer_nw_category']].copy()\n",
    "y=scaled_df.iloc[:,-1]"
   ]
  },
  {
   "cell_type": "code",
   "execution_count": 180,
   "metadata": {
    "id": "qhcxMlHpgeyK"
   },
   "outputs": [],
   "source": [
    "X_train, X_test, y_train, y_test = train_test_split(x,y,test_size =0.2,stratify = y)"
   ]
  },
  {
   "cell_type": "code",
   "execution_count": 181,
   "metadata": {
    "colab": {
     "base_uri": "https://localhost:8080/",
     "height": 153
    },
    "id": "h4nJ4LDAgmel",
    "outputId": "a0440c0d-abcc-474a-b895-3fd38f7de284"
   },
   "outputs": [
    {
     "data": {
      "text/plain": [
       "RandomForestClassifier(bootstrap=True, class_weight=None, criterion='gini',\n",
       "            max_depth=None, max_features='auto', max_leaf_nodes=None,\n",
       "            min_impurity_decrease=0.0, min_impurity_split=None,\n",
       "            min_samples_leaf=1, min_samples_split=2,\n",
       "            min_weight_fraction_leaf=0.0, n_estimators=200, n_jobs=None,\n",
       "            oob_score=False, random_state=None, verbose=0,\n",
       "            warm_start=False)"
      ]
     },
     "execution_count": 181,
     "metadata": {},
     "output_type": "execute_result"
    }
   ],
   "source": [
    "model1=RandomForestClassifier(n_estimators=200)\n",
    "model1.fit(X_train,y_train)"
   ]
  },
  {
   "cell_type": "code",
   "execution_count": 182,
   "metadata": {
    "id": "qbQqoRwwlZ6b"
   },
   "outputs": [],
   "source": [
    "y_pred=model1.predict(X_test)"
   ]
  },
  {
   "cell_type": "code",
   "execution_count": 183,
   "metadata": {
    "colab": {
     "base_uri": "https://localhost:8080/",
     "height": 51
    },
    "id": "OzlO-HKSmN_b",
    "outputId": "6d22d19d-8748-4712-9aff-839d3bd00e98"
   },
   "outputs": [
    {
     "data": {
      "text/plain": [
       "array([[2521,   45],\n",
       "       [ 283,   97]], dtype=int64)"
      ]
     },
     "execution_count": 183,
     "metadata": {},
     "output_type": "execute_result"
    }
   ],
   "source": [
    "confusion_matrix(y_test,y_pred)"
   ]
  },
  {
   "cell_type": "code",
   "execution_count": 184,
   "metadata": {
    "colab": {
     "base_uri": "https://localhost:8080/",
     "height": 170
    },
    "id": "iW2qOg4QmT5a",
    "outputId": "fb7374b6-242c-49e5-c232-3ae300c2775f"
   },
   "outputs": [
    {
     "name": "stdout",
     "output_type": "stream",
     "text": [
      "              precision    recall  f1-score   support\n",
      "\n",
      "         0.0       0.90      0.98      0.94      2566\n",
      "         1.0       0.68      0.26      0.37       380\n",
      "\n",
      "   micro avg       0.89      0.89      0.89      2946\n",
      "   macro avg       0.79      0.62      0.66      2946\n",
      "weighted avg       0.87      0.89      0.87      2946\n",
      "\n"
     ]
    }
   ],
   "source": [
    "print(classification_report(y_test, y_pred))"
   ]
  },
  {
   "cell_type": "code",
   "execution_count": 185,
   "metadata": {
    "colab": {
     "base_uri": "https://localhost:8080/",
     "height": 34
    },
    "id": "iaWeS5Z_mm3M",
    "outputId": "d83659db-3b1d-482e-d992-f82578ce9b02"
   },
   "outputs": [
    {
     "data": {
      "text/plain": [
       "0.8886625933469111"
      ]
     },
     "execution_count": 185,
     "metadata": {},
     "output_type": "execute_result"
    }
   ],
   "source": [
    "accuracy_score(y_test,y_pred)"
   ]
  },
  {
   "cell_type": "code",
   "execution_count": 186,
   "metadata": {
    "colab": {
     "base_uri": "https://localhost:8080/",
     "height": 68
    },
    "id": "R4BCuVnem1ps",
    "outputId": "f048cc6b-38c5-40f4-acd5-ef50e55c3c78"
   },
   "outputs": [
    {
     "data": {
      "text/plain": [
       "KNeighborsClassifier(algorithm='auto', leaf_size=30, metric='minkowski',\n",
       "           metric_params=None, n_jobs=None, n_neighbors=3, p=2,\n",
       "           weights='uniform')"
      ]
     },
     "execution_count": 186,
     "metadata": {},
     "output_type": "execute_result"
    }
   ],
   "source": [
    "model2 = KNeighborsClassifier(n_neighbors=3)\n",
    "model2.fit(X_train,y_train)"
   ]
  },
  {
   "cell_type": "code",
   "execution_count": 187,
   "metadata": {
    "id": "sPsEaRkNnNQI"
   },
   "outputs": [],
   "source": [
    "y_pred1=model2.predict(X_test)"
   ]
  },
  {
   "cell_type": "code",
   "execution_count": 188,
   "metadata": {
    "colab": {
     "base_uri": "https://localhost:8080/",
     "height": 51
    },
    "id": "YQ1tNKoJngNK",
    "outputId": "5f1e5df1-0c59-40e6-d5a6-5091241faca7"
   },
   "outputs": [
    {
     "data": {
      "text/plain": [
       "array([[2455,  111],\n",
       "       [ 325,   55]], dtype=int64)"
      ]
     },
     "execution_count": 188,
     "metadata": {},
     "output_type": "execute_result"
    }
   ],
   "source": [
    "confusion_matrix(y_test,y_pred1)"
   ]
  },
  {
   "cell_type": "code",
   "execution_count": 189,
   "metadata": {
    "colab": {
     "base_uri": "https://localhost:8080/",
     "height": 34
    },
    "id": "hFbjoCpNnkBo",
    "outputId": "9e75141c-d6ed-4a50-89ad-9d2ed4450117"
   },
   "outputs": [
    {
     "data": {
      "text/plain": [
       "0.8520027155465038"
      ]
     },
     "execution_count": 189,
     "metadata": {},
     "output_type": "execute_result"
    }
   ],
   "source": [
    "accuracy_score(y_test,y_pred1)"
   ]
  },
  {
   "cell_type": "code",
   "execution_count": 190,
   "metadata": {
    "colab": {
     "base_uri": "https://localhost:8080/",
     "height": 170
    },
    "id": "UUiod0ATnvh-",
    "outputId": "d0b106e8-b940-415d-de33-f5a5f66c2235"
   },
   "outputs": [
    {
     "name": "stdout",
     "output_type": "stream",
     "text": [
      "              precision    recall  f1-score   support\n",
      "\n",
      "         0.0       0.88      0.96      0.92      2566\n",
      "         1.0       0.33      0.14      0.20       380\n",
      "\n",
      "   micro avg       0.85      0.85      0.85      2946\n",
      "   macro avg       0.61      0.55      0.56      2946\n",
      "weighted avg       0.81      0.85      0.83      2946\n",
      "\n"
     ]
    }
   ],
   "source": [
    "print(classification_report(y_test, y_pred1))"
   ]
  },
  {
   "cell_type": "code",
   "execution_count": 191,
   "metadata": {
    "colab": {
     "base_uri": "https://localhost:8080/",
     "height": 102
    },
    "id": "r_qykgAJn1IN",
    "outputId": "f1bb95eb-253c-40d4-8af0-2584bbf8d604"
   },
   "outputs": [
    {
     "name": "stderr",
     "output_type": "stream",
     "text": [
      "C:\\ProgramData\\Anaconda3\\lib\\site-packages\\sklearn\\linear_model\\logistic.py:433: FutureWarning: Default solver will be changed to 'lbfgs' in 0.22. Specify a solver to silence this warning.\n",
      "  FutureWarning)\n"
     ]
    },
    {
     "data": {
      "text/plain": [
       "LogisticRegression(C=1.0, class_weight=None, dual=False, fit_intercept=True,\n",
       "          intercept_scaling=1, max_iter=100, multi_class='warn',\n",
       "          n_jobs=None, penalty='l2', random_state=None, solver='warn',\n",
       "          tol=0.0001, verbose=0, warm_start=False)"
      ]
     },
     "execution_count": 191,
     "metadata": {},
     "output_type": "execute_result"
    }
   ],
   "source": [
    "from sklearn.linear_model import LogisticRegression\n",
    "model3=LogisticRegression()\n",
    "model3.fit(X_train,y_train)"
   ]
  },
  {
   "cell_type": "code",
   "execution_count": 192,
   "metadata": {
    "id": "oNzN7LMOhEjL"
   },
   "outputs": [],
   "source": [
    "y_pred3=model3.predict(X_test)"
   ]
  },
  {
   "cell_type": "code",
   "execution_count": 193,
   "metadata": {
    "colab": {
     "base_uri": "https://localhost:8080/",
     "height": 34
    },
    "id": "7LwDPVtLhKnY",
    "outputId": "8a222f0a-1b0f-4c0b-a8da-5abe35478afc"
   },
   "outputs": [
    {
     "data": {
      "text/plain": [
       "0.8699932111337406"
      ]
     },
     "execution_count": 193,
     "metadata": {},
     "output_type": "execute_result"
    }
   ],
   "source": [
    "accuracy_score(y_test,y_pred3)"
   ]
  },
  {
   "cell_type": "code",
   "execution_count": 194,
   "metadata": {
    "colab": {
     "base_uri": "https://localhost:8080/",
     "height": 51
    },
    "id": "0wLCPJvFhO7Q",
    "outputId": "f1670020-3169-4f40-f129-5cdd1d3446bb"
   },
   "outputs": [
    {
     "data": {
      "text/plain": [
       "array([[2543,   23],\n",
       "       [ 360,   20]], dtype=int64)"
      ]
     },
     "execution_count": 194,
     "metadata": {},
     "output_type": "execute_result"
    }
   ],
   "source": [
    "confusion_matrix(y_test,y_pred3)"
   ]
  },
  {
   "cell_type": "code",
   "execution_count": 195,
   "metadata": {
    "colab": {
     "base_uri": "https://localhost:8080/",
     "height": 170
    },
    "id": "1tQchEhbhVuR",
    "outputId": "00409ff4-49c3-4775-e9fc-f29468d05922"
   },
   "outputs": [
    {
     "name": "stdout",
     "output_type": "stream",
     "text": [
      "              precision    recall  f1-score   support\n",
      "\n",
      "         0.0       0.88      0.99      0.93      2566\n",
      "         1.0       0.47      0.05      0.09       380\n",
      "\n",
      "   micro avg       0.87      0.87      0.87      2946\n",
      "   macro avg       0.67      0.52      0.51      2946\n",
      "weighted avg       0.82      0.87      0.82      2946\n",
      "\n"
     ]
    }
   ],
   "source": [
    "print(classification_report(y_test,y_pred3))"
   ]
  },
  {
   "cell_type": "code",
   "execution_count": 196,
   "metadata": {
    "colab": {
     "base_uri": "https://localhost:8080/",
     "height": 119
    },
    "id": "Nw7IxjGRhbXo",
    "outputId": "be10b47e-e835-4c23-ee06-9594d8494d4f"
   },
   "outputs": [
    {
     "data": {
      "text/plain": [
       "DecisionTreeClassifier(class_weight=None, criterion='gini', max_depth=None,\n",
       "            max_features=None, max_leaf_nodes=None,\n",
       "            min_impurity_decrease=0.0, min_impurity_split=None,\n",
       "            min_samples_leaf=1, min_samples_split=2,\n",
       "            min_weight_fraction_leaf=0.0, presort=False, random_state=None,\n",
       "            splitter='best')"
      ]
     },
     "execution_count": 196,
     "metadata": {},
     "output_type": "execute_result"
    }
   ],
   "source": [
    "from sklearn.tree import DecisionTreeClassifier\n",
    "model4=DecisionTreeClassifier()\n",
    "model4.fit(X_train,y_train)"
   ]
  },
  {
   "cell_type": "code",
   "execution_count": 197,
   "metadata": {
    "id": "mdcGvHN2h9Ml"
   },
   "outputs": [],
   "source": [
    "y_pred4=model4.predict(X_test)"
   ]
  },
  {
   "cell_type": "code",
   "execution_count": 198,
   "metadata": {
    "colab": {
     "base_uri": "https://localhost:8080/",
     "height": 34
    },
    "id": "sa4zJk99iIuS",
    "outputId": "db2cb86e-176a-4da8-c55c-eeea667b68e9"
   },
   "outputs": [
    {
     "data": {
      "text/plain": [
       "0.8156822810590632"
      ]
     },
     "execution_count": 198,
     "metadata": {},
     "output_type": "execute_result"
    }
   ],
   "source": [
    "accuracy_score(y_test,y_pred4)"
   ]
  },
  {
   "cell_type": "code",
   "execution_count": 199,
   "metadata": {
    "colab": {
     "base_uri": "https://localhost:8080/",
     "height": 51
    },
    "id": "mT5qz5GQiM58",
    "outputId": "162d7265-aee2-447b-9d03-aab2f59c1720"
   },
   "outputs": [
    {
     "data": {
      "text/plain": [
       "array([[2274,  292],\n",
       "       [ 251,  129]], dtype=int64)"
      ]
     },
     "execution_count": 199,
     "metadata": {},
     "output_type": "execute_result"
    }
   ],
   "source": [
    "confusion_matrix(y_test,y_pred4)"
   ]
  },
  {
   "cell_type": "code",
   "execution_count": 200,
   "metadata": {
    "colab": {
     "base_uri": "https://localhost:8080/",
     "height": 170
    },
    "id": "raj5J5GAiS9I",
    "outputId": "ff3e68c2-acf5-4112-81b4-1db7cdcc2835"
   },
   "outputs": [
    {
     "name": "stdout",
     "output_type": "stream",
     "text": [
      "              precision    recall  f1-score   support\n",
      "\n",
      "         0.0       0.90      0.89      0.89      2566\n",
      "         1.0       0.31      0.34      0.32       380\n",
      "\n",
      "   micro avg       0.82      0.82      0.82      2946\n",
      "   macro avg       0.60      0.61      0.61      2946\n",
      "weighted avg       0.82      0.82      0.82      2946\n",
      "\n"
     ]
    }
   ],
   "source": [
    "print(classification_report(y_test,y_pred4))"
   ]
  },
  {
   "cell_type": "markdown",
   "metadata": {
    "id": "d5HnQCnQiitH"
   },
   "source": [
    "# Hyper parameter Tuning"
   ]
  },
  {
   "cell_type": "code",
   "execution_count": 204,
   "metadata": {},
   "outputs": [],
   "source": [
    "from sklearn.model_selection import train_test_split, GridSearchCV\n",
    "# xgboost classifier\n",
    "# https://xgboost.readthedocs.io/en/latest/python/python_api.html\n",
    "from xgboost import XGBClassifier\n",
    "from sklearn.svm import SVC\n"
   ]
  },
  {
   "cell_type": "code",
   "execution_count": 206,
   "metadata": {},
   "outputs": [],
   "source": [
    "def gridsearchfn(X_train_data, X_test_data, y_train_data, y_test_data, \n",
    "                       model, param_grid, cv=5, scoring_fit='accuracy'):\n",
    "    gs = GridSearchCV(\n",
    "        estimator=model,\n",
    "        param_grid=param_grid, \n",
    "        cv=cv, \n",
    "        n_jobs=-1, \n",
    "        scoring=scoring_fit,\n",
    "        verbose=2\n",
    "    )\n",
    "    fitted_model = gs.fit(X_train_data, y_train_data)\n",
    "    \n",
    "    return fitted_model"
   ]
  },
  {
   "cell_type": "code",
   "execution_count": 207,
   "metadata": {},
   "outputs": [
    {
     "name": "stdout",
     "output_type": "stream",
     "text": [
      "Fitting 5 folds for each of 200 candidates, totalling 1000 fits\n"
     ]
    },
    {
     "name": "stderr",
     "output_type": "stream",
     "text": [
      "[Parallel(n_jobs=-1)]: Using backend LokyBackend with 4 concurrent workers.\n",
      "[Parallel(n_jobs=-1)]: Done  33 tasks      | elapsed:  1.1min\n",
      "[Parallel(n_jobs=-1)]: Done 154 tasks      | elapsed:  5.2min\n",
      "[Parallel(n_jobs=-1)]: Done 357 tasks      | elapsed: 12.2min\n",
      "[Parallel(n_jobs=-1)]: Done 640 tasks      | elapsed: 22.4min\n",
      "[Parallel(n_jobs=-1)]: Done 1000 out of 1000 | elapsed: 35.8min finished\n"
     ]
    },
    {
     "name": "stdout",
     "output_type": "stream",
     "text": [
      "Best Parameters :  {'eta': 0.001, 'gamma': 5, 'max_depth': 5}\n"
     ]
    }
   ],
   "source": [
    "# define xgboost classifier with random state 0 as model. \n",
    "model = XGBClassifier(random_state=0)\n",
    "\n",
    "# parameter grid is defined inorder to search through and get the best fit parameters\n",
    "param_grid = {\n",
    "    'max_depth': [5,10,15,20,25,30,35,40,45,50],\n",
    "    'eta': [0.001, 0.01, 0.1, 1],\n",
    "    'gamma': [0, 0.1 , 1, 2, 5]\n",
    "}\n",
    "\n",
    "# invoke the gridsearch function to get the best fit model and parameters\n",
    "model = gridsearchfn(X_train, X_test, y_train, y_test, model, param_grid)\n",
    "\n",
    "# print the best parameters\n",
    "print('Best Parameters : ', model.best_params_)"
   ]
  },
  {
   "cell_type": "code",
   "execution_count": 208,
   "metadata": {},
   "outputs": [
    {
     "data": {
      "text/plain": [
       "XGBClassifier(base_score=0.5, booster='gbtree', colsample_bylevel=1,\n",
       "       colsample_bynode=1, colsample_bytree=1, eta=0.001, gamma=5,\n",
       "       learning_rate=0.1, max_delta_step=0, max_depth=5,\n",
       "       min_child_weight=1, missing=None, n_estimators=100, n_jobs=1,\n",
       "       nthread=None, objective='binary:logistic', random_state=0,\n",
       "       reg_alpha=0, reg_lambda=1, scale_pos_weight=1, seed=None,\n",
       "       silent=None, subsample=1, verbosity=1)"
      ]
     },
     "execution_count": 208,
     "metadata": {},
     "output_type": "execute_result"
    }
   ],
   "source": [
    "xgbclf = XGBClassifier(eta= 0.001, gamma= 5, max_depth= 5, random_state=0)\n",
    "xgbclf.fit(X_train, y_train)"
   ]
  },
  {
   "cell_type": "code",
   "execution_count": 209,
   "metadata": {},
   "outputs": [],
   "source": [
    "y_pred4=xgbclf.predict(X_test)"
   ]
  },
  {
   "cell_type": "code",
   "execution_count": 210,
   "metadata": {},
   "outputs": [
    {
     "data": {
      "text/plain": [
       "0.8893414799728445"
      ]
     },
     "execution_count": 210,
     "metadata": {},
     "output_type": "execute_result"
    }
   ],
   "source": [
    "accuracy_score(y_test,y_pred4)"
   ]
  },
  {
   "cell_type": "code",
   "execution_count": 211,
   "metadata": {},
   "outputs": [
    {
     "data": {
      "text/plain": [
       "array([[2532,   34],\n",
       "       [ 292,   88]], dtype=int64)"
      ]
     },
     "execution_count": 211,
     "metadata": {},
     "output_type": "execute_result"
    }
   ],
   "source": [
    "confusion_matrix(y_test,y_pred4)"
   ]
  },
  {
   "cell_type": "code",
   "execution_count": 212,
   "metadata": {},
   "outputs": [
    {
     "name": "stdout",
     "output_type": "stream",
     "text": [
      "              precision    recall  f1-score   support\n",
      "\n",
      "         0.0       0.90      0.99      0.94      2566\n",
      "         1.0       0.72      0.23      0.35       380\n",
      "\n",
      "   micro avg       0.89      0.89      0.89      2946\n",
      "   macro avg       0.81      0.61      0.65      2946\n",
      "weighted avg       0.87      0.89      0.86      2946\n",
      "\n"
     ]
    }
   ],
   "source": [
    "print(classification_report(y_test,y_pred4))"
   ]
  },
  {
   "cell_type": "code",
   "execution_count": 214,
   "metadata": {},
   "outputs": [
    {
     "name": "stdout",
     "output_type": "stream",
     "text": [
      "Fitting 5 folds for each of 4 candidates, totalling 20 fits\n"
     ]
    },
    {
     "name": "stderr",
     "output_type": "stream",
     "text": [
      "[Parallel(n_jobs=-1)]: Using backend LokyBackend with 4 concurrent workers.\n",
      "[Parallel(n_jobs=-1)]: Done  20 out of  20 | elapsed:   17.9s finished\n"
     ]
    },
    {
     "name": "stdout",
     "output_type": "stream",
     "text": [
      "Best Parameters :  {'kernel': 'linear'}\n"
     ]
    }
   ],
   "source": [
    "# define Support Vector Machine classifier with random state as 0 as model. \n",
    "model = SVC(random_state=0)\n",
    "\n",
    "# parameter grid is defined inorder to search through and get the best fit parameters\n",
    "param_grid = {\n",
    "    'kernel' : ['linear', 'poly', 'rbf', 'sigmoid']\n",
    "}\n",
    "\n",
    "# invoke the gridsearch function to get the best fit model and parameters\n",
    "model = gridsearchfn(X_train, X_test, y_train, y_test, model, param_grid)\n",
    "\n",
    "print('Best Parameters : ', model.best_params_)"
   ]
  },
  {
   "cell_type": "code",
   "execution_count": 215,
   "metadata": {},
   "outputs": [
    {
     "data": {
      "text/plain": [
       "SVC(C=1.0, cache_size=200, class_weight=None, coef0=0.0,\n",
       "  decision_function_shape='ovr', degree=3, gamma='auto_deprecated',\n",
       "  kernel='linear', max_iter=-1, probability=True, random_state=0,\n",
       "  shrinking=True, tol=0.001, verbose=False)"
      ]
     },
     "execution_count": 215,
     "metadata": {},
     "output_type": "execute_result"
    }
   ],
   "source": [
    "svcclf = SVC(kernel = 'linear', random_state=0, probability=True)\n",
    "svcclf.fit(X_train, y_train)"
   ]
  },
  {
   "cell_type": "code",
   "execution_count": 216,
   "metadata": {},
   "outputs": [],
   "source": [
    "y_pred4=svcclf.predict(X_test)"
   ]
  },
  {
   "cell_type": "code",
   "execution_count": 217,
   "metadata": {},
   "outputs": [
    {
     "data": {
      "text/plain": [
       "0.8710115410726409"
      ]
     },
     "execution_count": 217,
     "metadata": {},
     "output_type": "execute_result"
    }
   ],
   "source": [
    "accuracy_score(y_test,y_pred4)"
   ]
  },
  {
   "cell_type": "code",
   "execution_count": 218,
   "metadata": {},
   "outputs": [
    {
     "data": {
      "text/plain": [
       "array([[2566,    0],\n",
       "       [ 380,    0]], dtype=int64)"
      ]
     },
     "execution_count": 218,
     "metadata": {},
     "output_type": "execute_result"
    }
   ],
   "source": [
    "confusion_matrix(y_test,y_pred4)"
   ]
  },
  {
   "cell_type": "code",
   "execution_count": 219,
   "metadata": {},
   "outputs": [
    {
     "name": "stdout",
     "output_type": "stream",
     "text": [
      "              precision    recall  f1-score   support\n",
      "\n",
      "         0.0       0.87      1.00      0.93      2566\n",
      "         1.0       0.00      0.00      0.00       380\n",
      "\n",
      "   micro avg       0.87      0.87      0.87      2946\n",
      "   macro avg       0.44      0.50      0.47      2946\n",
      "weighted avg       0.76      0.87      0.81      2946\n",
      "\n"
     ]
    },
    {
     "name": "stderr",
     "output_type": "stream",
     "text": [
      "C:\\ProgramData\\Anaconda3\\lib\\site-packages\\sklearn\\metrics\\classification.py:1143: UndefinedMetricWarning: Precision and F-score are ill-defined and being set to 0.0 in labels with no predicted samples.\n",
      "  'precision', 'predicted', average, warn_for)\n",
      "C:\\ProgramData\\Anaconda3\\lib\\site-packages\\sklearn\\metrics\\classification.py:1143: UndefinedMetricWarning: Precision and F-score are ill-defined and being set to 0.0 in labels with no predicted samples.\n",
      "  'precision', 'predicted', average, warn_for)\n",
      "C:\\ProgramData\\Anaconda3\\lib\\site-packages\\sklearn\\metrics\\classification.py:1143: UndefinedMetricWarning: Precision and F-score are ill-defined and being set to 0.0 in labels with no predicted samples.\n",
      "  'precision', 'predicted', average, warn_for)\n"
     ]
    }
   ],
   "source": [
    "print(classification_report(y_test,y_pred4))"
   ]
  },
  {
   "cell_type": "code",
   "execution_count": 220,
   "metadata": {},
   "outputs": [
    {
     "name": "stdout",
     "output_type": "stream",
     "text": [
      "Fitting 5 folds for each of 108 candidates, totalling 540 fits\n"
     ]
    },
    {
     "name": "stderr",
     "output_type": "stream",
     "text": [
      "[Parallel(n_jobs=-1)]: Using backend LokyBackend with 4 concurrent workers.\n",
      "[Parallel(n_jobs=-1)]: Done  33 tasks      | elapsed:   11.4s\n",
      "[Parallel(n_jobs=-1)]: Done 154 tasks      | elapsed:   58.1s\n",
      "[Parallel(n_jobs=-1)]: Done 357 tasks      | elapsed:  2.9min\n",
      "[Parallel(n_jobs=-1)]: Done 540 out of 540 | elapsed:  5.3min finished\n"
     ]
    },
    {
     "name": "stdout",
     "output_type": "stream",
     "text": [
      "Best Parameters :  {'bootstrap': True, 'criterion': 'gini', 'max_depth': 100, 'min_samples_split': 6, 'n_estimators': 60}\n"
     ]
    }
   ],
   "source": [
    "# define xgboost classifier with random state as 0 as model. \n",
    "model = RandomForestClassifier(random_state=0)\n",
    "\n",
    "# parameter grid is defined inorder to search through and get the best fit parameters\n",
    "param_grid = {\n",
    "    'n_estimators': [20,40,60],\n",
    "    'criterion' : ['gini', 'entropy'],\n",
    "    'min_samples_split' : [2,4,6],\n",
    "    'max_depth' : [100,200,300],\n",
    "    'bootstrap' : [True, False]\n",
    "    \n",
    "}\n",
    "\n",
    "# invoke the gridsearch function to get the best fit model and parameters\n",
    "model = gridsearchfn(X_train, X_test, y_train, y_test, model, param_grid)\n",
    "\n",
    "print('Best Parameters : ', model.best_params_)"
   ]
  },
  {
   "cell_type": "code",
   "execution_count": 221,
   "metadata": {},
   "outputs": [
    {
     "data": {
      "text/plain": [
       "RandomForestClassifier(bootstrap=True, class_weight=None, criterion='gini',\n",
       "            max_depth=100, max_features='auto', max_leaf_nodes=None,\n",
       "            min_impurity_decrease=0.0, min_impurity_split=None,\n",
       "            min_samples_leaf=1, min_samples_split=6,\n",
       "            min_weight_fraction_leaf=0.0, n_estimators=60, n_jobs=None,\n",
       "            oob_score=False, random_state=0, verbose=0, warm_start=False)"
      ]
     },
     "execution_count": 221,
     "metadata": {},
     "output_type": "execute_result"
    }
   ],
   "source": [
    "# Best Parameters :  {'bootstrap': True, 'criterion': 'gini', 'max_depth': 100, 'min_samples_split': 6, 'n_estimators': 40}\n",
    "rndfclf = RandomForestClassifier(bootstrap = True, criterion = 'gini', max_depth = 100, min_samples_split =6,\n",
    "                        n_estimators= 60, random_state=0)\n",
    "rndfclf.fit(X_train, y_train)"
   ]
  },
  {
   "cell_type": "code",
   "execution_count": 222,
   "metadata": {},
   "outputs": [],
   "source": [
    "y_pred4=rndfclf.predict(X_test)"
   ]
  },
  {
   "cell_type": "code",
   "execution_count": 223,
   "metadata": {},
   "outputs": [
    {
     "data": {
      "text/plain": [
       "0.8893414799728445"
      ]
     },
     "execution_count": 223,
     "metadata": {},
     "output_type": "execute_result"
    }
   ],
   "source": [
    "accuracy_score(y_test,y_pred4)"
   ]
  },
  {
   "cell_type": "code",
   "execution_count": 224,
   "metadata": {},
   "outputs": [
    {
     "data": {
      "text/plain": [
       "array([[2523,   43],\n",
       "       [ 283,   97]], dtype=int64)"
      ]
     },
     "execution_count": 224,
     "metadata": {},
     "output_type": "execute_result"
    }
   ],
   "source": [
    "confusion_matrix(y_test,y_pred4)"
   ]
  },
  {
   "cell_type": "code",
   "execution_count": 225,
   "metadata": {},
   "outputs": [
    {
     "name": "stdout",
     "output_type": "stream",
     "text": [
      "              precision    recall  f1-score   support\n",
      "\n",
      "         0.0       0.90      0.98      0.94      2566\n",
      "         1.0       0.69      0.26      0.37       380\n",
      "\n",
      "   micro avg       0.89      0.89      0.89      2946\n",
      "   macro avg       0.80      0.62      0.66      2946\n",
      "weighted avg       0.87      0.89      0.87      2946\n",
      "\n"
     ]
    }
   ],
   "source": [
    "print(classification_report(y_test,y_pred4))"
   ]
  },
  {
   "cell_type": "markdown",
   "metadata": {},
   "source": [
    "## In all above the model random forest model is performing well its accuracy is 88.9 and f1 score is 94 and 37 it is best comparision to other"
   ]
  },
  {
   "cell_type": "code",
   "execution_count": 230,
   "metadata": {},
   "outputs": [],
   "source": [
    "import pickle\n",
    "# open a file, where you ant to store the data\n",
    "file = open('random_forest_regression_model.pkl', 'wb')\n",
    "\n",
    "# dump information to that file\n",
    "pickle.dump(rndfclf, file)"
   ]
  },
  {
   "cell_type": "code",
   "execution_count": null,
   "metadata": {},
   "outputs": [],
   "source": [
    "x=scaled_df[['vintage','days_since_last_transaction','current_month_credit','previous_month_credit','current_month_debit','previous_month_debit','current_month_balance','age','occupation','customer_nw_category']].co"
   ]
  },
  {
   "cell_type": "code",
   "execution_count": 232,
   "metadata": {},
   "outputs": [
    {
     "data": {
      "text/html": [
       "<div>\n",
       "<style scoped>\n",
       "    .dataframe tbody tr th:only-of-type {\n",
       "        vertical-align: middle;\n",
       "    }\n",
       "\n",
       "    .dataframe tbody tr th {\n",
       "        vertical-align: top;\n",
       "    }\n",
       "\n",
       "    .dataframe thead th {\n",
       "        text-align: right;\n",
       "    }\n",
       "</style>\n",
       "<table border=\"1\" class=\"dataframe\">\n",
       "  <thead>\n",
       "    <tr style=\"text-align: right;\">\n",
       "      <th></th>\n",
       "      <th>vintage</th>\n",
       "      <th>days_since_last_transaction</th>\n",
       "      <th>current_month_credit</th>\n",
       "      <th>previous_month_credit</th>\n",
       "      <th>current_month_debit</th>\n",
       "      <th>previous_month_debit</th>\n",
       "      <th>current_month_balance</th>\n",
       "      <th>age</th>\n",
       "      <th>occupation</th>\n",
       "      <th>customer_nw_category</th>\n",
       "    </tr>\n",
       "  </thead>\n",
       "  <tbody>\n",
       "    <tr>\n",
       "      <th>5708</th>\n",
       "      <td>0.086153</td>\n",
       "      <td>0.223827</td>\n",
       "      <td>0.000106</td>\n",
       "      <td>0.000093</td>\n",
       "      <td>0.000258</td>\n",
       "      <td>0.051654</td>\n",
       "      <td>0.289813</td>\n",
       "      <td>0.393258</td>\n",
       "      <td>0.50</td>\n",
       "      <td>1.0</td>\n",
       "    </tr>\n",
       "    <tr>\n",
       "      <th>12124</th>\n",
       "      <td>0.159719</td>\n",
       "      <td>0.209386</td>\n",
       "      <td>0.000206</td>\n",
       "      <td>0.133475</td>\n",
       "      <td>0.000109</td>\n",
       "      <td>0.000109</td>\n",
       "      <td>0.455041</td>\n",
       "      <td>0.640449</td>\n",
       "      <td>0.75</td>\n",
       "      <td>0.5</td>\n",
       "    </tr>\n",
       "    <tr>\n",
       "      <th>14324</th>\n",
       "      <td>0.209253</td>\n",
       "      <td>0.180505</td>\n",
       "      <td>0.000132</td>\n",
       "      <td>0.000117</td>\n",
       "      <td>0.000070</td>\n",
       "      <td>0.000070</td>\n",
       "      <td>0.357071</td>\n",
       "      <td>0.134831</td>\n",
       "      <td>1.00</td>\n",
       "      <td>0.5</td>\n",
       "    </tr>\n",
       "    <tr>\n",
       "      <th>12888</th>\n",
       "      <td>0.308648</td>\n",
       "      <td>0.072202</td>\n",
       "      <td>0.474946</td>\n",
       "      <td>0.418586</td>\n",
       "      <td>0.000025</td>\n",
       "      <td>0.000025</td>\n",
       "      <td>0.608040</td>\n",
       "      <td>0.359551</td>\n",
       "      <td>0.75</td>\n",
       "      <td>0.0</td>\n",
       "    </tr>\n",
       "    <tr>\n",
       "      <th>4735</th>\n",
       "      <td>0.748079</td>\n",
       "      <td>0.176895</td>\n",
       "      <td>0.000333</td>\n",
       "      <td>0.117207</td>\n",
       "      <td>0.000177</td>\n",
       "      <td>0.000176</td>\n",
       "      <td>0.698916</td>\n",
       "      <td>0.426966</td>\n",
       "      <td>0.50</td>\n",
       "      <td>0.5</td>\n",
       "    </tr>\n",
       "  </tbody>\n",
       "</table>\n",
       "</div>"
      ],
      "text/plain": [
       "        vintage  days_since_last_transaction  current_month_credit  \\\n",
       "5708   0.086153                     0.223827              0.000106   \n",
       "12124  0.159719                     0.209386              0.000206   \n",
       "14324  0.209253                     0.180505              0.000132   \n",
       "12888  0.308648                     0.072202              0.474946   \n",
       "4735   0.748079                     0.176895              0.000333   \n",
       "\n",
       "       previous_month_credit  current_month_debit  previous_month_debit  \\\n",
       "5708                0.000093             0.000258              0.051654   \n",
       "12124               0.133475             0.000109              0.000109   \n",
       "14324               0.000117             0.000070              0.000070   \n",
       "12888               0.418586             0.000025              0.000025   \n",
       "4735                0.117207             0.000177              0.000176   \n",
       "\n",
       "       current_month_balance       age  occupation  customer_nw_category  \n",
       "5708                0.289813  0.393258        0.50                   1.0  \n",
       "12124               0.455041  0.640449        0.75                   0.5  \n",
       "14324               0.357071  0.134831        1.00                   0.5  \n",
       "12888               0.608040  0.359551        0.75                   0.0  \n",
       "4735                0.698916  0.426966        0.50                   0.5  "
      ]
     },
     "execution_count": 232,
     "metadata": {},
     "output_type": "execute_result"
    }
   ],
   "source": [
    "X_test.head()"
   ]
  },
  {
   "cell_type": "code",
   "execution_count": 146,
   "metadata": {},
   "outputs": [],
   "source": [
    "file_name = \"minmax.pickle\"\n",
    "pickle.dump(scaler,open(file_name,'wb'))"
   ]
  },
  {
   "cell_type": "code",
   "execution_count": 147,
   "metadata": {},
   "outputs": [],
   "source": [
    "import pickle\n",
    "ss = pickle.load(open('minmax.pickle', 'rb'))"
   ]
  },
  {
   "cell_type": "code",
   "execution_count": 153,
   "metadata": {},
   "outputs": [],
   "source": [
    "bb = ss.transform(np.array([400,234,34,234,4,23,46,24,23,22]).reshape(-1,1).T)"
   ]
  },
  {
   "cell_type": "code",
   "execution_count": 154,
   "metadata": {},
   "outputs": [
    {
     "data": {
      "text/plain": [
       "array([[400., 234.,  34., 234.,   4.,  23.,  46.,  24.,  23.,  22.]])"
      ]
     },
     "execution_count": 154,
     "metadata": {},
     "output_type": "execute_result"
    }
   ],
   "source": [
    "ss.inverse_transform(bb)"
   ]
  },
  {
   "cell_type": "code",
   "execution_count": 152,
   "metadata": {},
   "outputs": [],
   "source": [
    "aa = pickle.load(open('random_forest_regression_model.pkl', 'rb'))"
   ]
  },
  {
   "cell_type": "code",
   "execution_count": 156,
   "metadata": {},
   "outputs": [
    {
     "data": {
      "text/plain": [
       "array([1.])"
      ]
     },
     "execution_count": 156,
     "metadata": {},
     "output_type": "execute_result"
    }
   ],
   "source": [
    "aa.predict(bb)"
   ]
  },
  {
   "cell_type": "code",
   "execution_count": null,
   "metadata": {},
   "outputs": [],
   "source": []
  }
 ],
 "metadata": {
  "accelerator": "GPU",
  "colab": {
   "collapsed_sections": [],
   "name": "final project",
   "provenance": []
  },
  "kernelspec": {
   "display_name": "Python 3",
   "language": "python",
   "name": "python3"
  },
  "language_info": {
   "codemirror_mode": {
    "name": "ipython",
    "version": 3
   },
   "file_extension": ".py",
   "mimetype": "text/x-python",
   "name": "python",
   "nbconvert_exporter": "python",
   "pygments_lexer": "ipython3",
   "version": "3.7.3"
  }
 },
 "nbformat": 4,
 "nbformat_minor": 1
}
